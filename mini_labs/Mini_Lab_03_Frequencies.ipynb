{
  "nbformat": 4,
  "nbformat_minor": 0,
  "metadata": {
    "colab": {
      "provenance": [],
      "toc_visible": true,
      "authorship_tag": "ABX9TyN8qJ/9WwmUH0yjjIKAVeMu",
      "include_colab_link": true
    },
    "kernelspec": {
      "name": "python3",
      "display_name": "Python 3"
    },
    "language_info": {
      "name": "python"
    }
  },
  "cells": [
    {
      "cell_type": "markdown",
      "metadata": {
        "id": "view-in-github",
        "colab_type": "text"
      },
      "source": [
        "<a href=\"https://colab.research.google.com/github/browndw/humanities_analytics/blob/main/mini_labs/Mini_Lab_03_Frequencies.ipynb\" target=\"_parent\"><img src=\"https://colab.research.google.com/assets/colab-badge.svg\" alt=\"Open In Colab\"/></a>"
      ]
    },
    {
      "cell_type": "markdown",
      "source": [
        "# Mini Lab 3: Frequencies and Dispersions\n",
        "\n",
        "To carry out this mini lab, we're going to install a couple of libraries. The first, is one that helps you process data using a specially trainined spaCy model that tags for both parts-of-speech and for rhetorical categories.\n",
        "\n",
        "Its tagging scheme is based on the DocuScope dictionary developed by David Kaufer and Suguru Ishizaki. We'll be using this library for many of these labs.\n",
        "\n",
        "For details about the package and it's functions see: <https://docuscospacy.readthedocs.io/en/latest/docuscope.html>\n",
        "\n",
        "If you'd like to explore what this library does in an interactive online interface, you can go to: <https://docuscope-ca.eberly.cmu.edu/>\n",
        "\n",
        "We'll also be using [great_tables](https://posit-dev.github.io/great-tables/articles/intro.html) to design and output tablular data.\n",
        "\n",
        "## Install the\n",
        "\n",
        "Note that the capture decorator simply supresses the installation output."
      ],
      "metadata": {
        "id": "0equclcwmoKo"
      }
    },
    {
      "cell_type": "code",
      "execution_count": 1,
      "metadata": {
        "id": "lBlnORnZHsWL"
      },
      "outputs": [],
      "source": [
        "%%capture\n",
        "!pip install docuscospacy>=0.3\n",
        "!pip install great_tables"
      ]
    },
    {
      "cell_type": "markdown",
      "source": [
        "## Install the model\n",
        "\n",
        "Next we'll install the model."
      ],
      "metadata": {
        "id": "0xN5yRLdod_3"
      }
    },
    {
      "cell_type": "code",
      "source": [
        "%%capture\n",
        "!pip install \"en_docusco_spacy @ https://huggingface.co/browndw/en_docusco_spacy/resolve/main/en_docusco_spacy-any-py3-none-any.whl\""
      ],
      "metadata": {
        "id": "m8z91JqxIDvg"
      },
      "execution_count": 2,
      "outputs": []
    },
    {
      "cell_type": "markdown",
      "source": [
        "## Load the libraries\n",
        "\n",
        "We'll need these for our proceessing pipeline (docuscospacy, spacy) wrangle data frames (polars), generate and maipulate tables (great_tables) and create plots (matplotlib)."
      ],
      "metadata": {
        "id": "FdDp9NtWpDk2"
      }
    },
    {
      "cell_type": "code",
      "source": [
        "import docuscospacy as ds\n",
        "import polars as pl\n",
        "import spacy\n",
        "from great_tables import GT, md, html\n",
        "from matplotlib import pyplot as plt"
      ],
      "metadata": {
        "id": "MgESsnQYIPbb"
      },
      "execution_count": 4,
      "outputs": []
    },
    {
      "cell_type": "markdown",
      "source": [
        "## Import data\n",
        "\n",
        "For this exercise, we'll import some toy data that was designed to replicate COCA on a small scale."
      ],
      "metadata": {
        "id": "kCGqKsL1mlVQ"
      }
    },
    {
      "cell_type": "code",
      "source": [
        "df = pl.read_parquet(\"https://github.com/browndw/humanities_analytics/raw/refs/heads/main/data/data_tables/sample_corpus.parquet\")"
      ],
      "metadata": {
        "id": "9pqrNjqmJ6WJ"
      },
      "execution_count": 5,
      "outputs": []
    },
    {
      "cell_type": "markdown",
      "source": [
        "Now we can check the data that we've imported. Note that the table has a `doc_id` column and a `text` column. This is conventional formatting for processing textual data. Also, note that we can encode meta-data into our file names. This is a crucial design step in building or organizing corpora.\n",
        "\n",
        "Typically, **do not** use spaces in the file names. And use separators (like underscores, @ symbols, and hyphens) to delineate categories from other information. Here the underscore separates the text-type from an id number."
      ],
      "metadata": {
        "id": "QfV9bQwIp6AL"
      }
    },
    {
      "cell_type": "code",
      "source": [
        "df.head()"
      ],
      "metadata": {
        "colab": {
          "base_uri": "https://localhost:8080/",
          "height": 255
        },
        "id": "WBEdkzJVKANv",
        "outputId": "92c1d7a4-fafe-4c16-ca73-6e6b46844a0c"
      },
      "execution_count": 7,
      "outputs": [
        {
          "output_type": "execute_result",
          "data": {
            "text/plain": [
              "shape: (5, 2)\n",
              "┌─────────┬─────────────────────────────────┐\n",
              "│ doc_id  ┆ text                            │\n",
              "│ ---     ┆ ---                             │\n",
              "│ str     ┆ str                             │\n",
              "╞═════════╪═════════════════════════════════╡\n",
              "│ acad_01 ┆ Teachers and other school pers… │\n",
              "│ acad_02 ┆ Abstract Does the conflict in … │\n",
              "│ acad_03 ┆ January 17, 1993, will mark th… │\n",
              "│ acad_04 ┆ Thirty years have passed since… │\n",
              "│ acad_05 ┆ ABSTRACT -- A common property … │\n",
              "└─────────┴─────────────────────────────────┘"
            ],
            "text/html": [
              "<div><style>\n",
              ".dataframe > thead > tr,\n",
              ".dataframe > tbody > tr {\n",
              "  text-align: right;\n",
              "  white-space: pre-wrap;\n",
              "}\n",
              "</style>\n",
              "<small>shape: (5, 2)</small><table border=\"1\" class=\"dataframe\"><thead><tr><th>doc_id</th><th>text</th></tr><tr><td>str</td><td>str</td></tr></thead><tbody><tr><td>&quot;acad_01&quot;</td><td>&quot;Teachers and other school pers…</td></tr><tr><td>&quot;acad_02&quot;</td><td>&quot;Abstract Does the conflict in …</td></tr><tr><td>&quot;acad_03&quot;</td><td>&quot;January 17, 1993, will mark th…</td></tr><tr><td>&quot;acad_04&quot;</td><td>&quot;Thirty years have passed since…</td></tr><tr><td>&quot;acad_05&quot;</td><td>&quot;ABSTRACT -- A common property …</td></tr></tbody></table></div>"
            ]
          },
          "metadata": {},
          "execution_count": 7
        }
      ]
    },
    {
      "cell_type": "markdown",
      "source": [
        "## Load the model\n",
        "\n",
        "As with any processing task of this kind, we will first need to load a model instance."
      ],
      "metadata": {
        "id": "IIU6DyxgrUXX"
      }
    },
    {
      "cell_type": "code",
      "source": [
        "nlp = spacy.load(\"en_docusco_spacy\")"
      ],
      "metadata": {
        "id": "4W0r_yGXKL-Q"
      },
      "execution_count": 8,
      "outputs": []
    },
    {
      "cell_type": "markdown",
      "source": [
        "## Process the corpus\n",
        "\n",
        "Now, we pass our data frame `df` to the nlp model that we just loaded using the `docuscope_parse` function. This is the most computationally intensive part of the process (and it takes the longest). For this sample corpus, processing should take a couple of minutes.\n",
        "\n",
        "If you're working with a medium to large corpus, you'd typically want to down-sample the full corpus and check to make everything is working before processing the full data set.\n",
        "\n",
        "Down-sample our `df` would be easy using the `sample` function in [`polars`](https://docs.pola.rs/api/python/stable/reference/dataframe/api/polars.DataFrame.sample.html)."
      ],
      "metadata": {
        "id": "2gpj2eSlriVy"
      }
    },
    {
      "cell_type": "code",
      "source": [
        "ds_tokens = ds.docuscope_parse(df, nlp_model=nlp, n_process=4)"
      ],
      "metadata": {
        "id": "OuIJku9bKCtw"
      },
      "execution_count": 9,
      "outputs": []
    },
    {
      "cell_type": "markdown",
      "source": [
        "### Peek at the tokens\n",
        "\n",
        "Now we can check what we've generated."
      ],
      "metadata": {
        "id": "k98_NhvMsdJU"
      }
    },
    {
      "cell_type": "code",
      "source": [
        "ds_tokens.head()"
      ],
      "metadata": {
        "colab": {
          "base_uri": "https://localhost:8080/",
          "height": 255
        },
        "id": "IldRLdYYslJO",
        "outputId": "925cd0bf-b4b3-453e-d62a-26d67867f1b0"
      },
      "execution_count": 10,
      "outputs": [
        {
          "output_type": "execute_result",
          "data": {
            "text/plain": [
              "shape: (5, 6)\n",
              "┌─────────┬────────────┬─────────┬───────────────────┬────────┬───────┐\n",
              "│ doc_id  ┆ token      ┆ pos_tag ┆ ds_tag            ┆ pos_id ┆ ds_id │\n",
              "│ ---     ┆ ---        ┆ ---     ┆ ---               ┆ ---    ┆ ---   │\n",
              "│ str     ┆ str        ┆ str     ┆ str               ┆ u32    ┆ u32   │\n",
              "╞═════════╪════════════╪═════════╪═══════════════════╪════════╪═══════╡\n",
              "│ acad_01 ┆ Teachers   ┆ NN2     ┆ Character         ┆ 1      ┆ 1     │\n",
              "│ acad_01 ┆ and        ┆ CC      ┆ Untagged          ┆ 2      ┆ 2     │\n",
              "│ acad_01 ┆ other      ┆ JJ      ┆ InformationTopics ┆ 3      ┆ 3     │\n",
              "│ acad_01 ┆ school     ┆ NN1     ┆ InformationTopics ┆ 4      ┆ 3     │\n",
              "│ acad_01 ┆ personnel  ┆ NN2     ┆ Character         ┆ 5      ┆ 4     │\n",
              "└─────────┴────────────┴─────────┴───────────────────┴────────┴───────┘"
            ],
            "text/html": [
              "<div><style>\n",
              ".dataframe > thead > tr,\n",
              ".dataframe > tbody > tr {\n",
              "  text-align: right;\n",
              "  white-space: pre-wrap;\n",
              "}\n",
              "</style>\n",
              "<small>shape: (5, 6)</small><table border=\"1\" class=\"dataframe\"><thead><tr><th>doc_id</th><th>token</th><th>pos_tag</th><th>ds_tag</th><th>pos_id</th><th>ds_id</th></tr><tr><td>str</td><td>str</td><td>str</td><td>str</td><td>u32</td><td>u32</td></tr></thead><tbody><tr><td>&quot;acad_01&quot;</td><td>&quot;Teachers &quot;</td><td>&quot;NN2&quot;</td><td>&quot;Character&quot;</td><td>1</td><td>1</td></tr><tr><td>&quot;acad_01&quot;</td><td>&quot;and &quot;</td><td>&quot;CC&quot;</td><td>&quot;Untagged&quot;</td><td>2</td><td>2</td></tr><tr><td>&quot;acad_01&quot;</td><td>&quot;other &quot;</td><td>&quot;JJ&quot;</td><td>&quot;InformationTopics&quot;</td><td>3</td><td>3</td></tr><tr><td>&quot;acad_01&quot;</td><td>&quot;school &quot;</td><td>&quot;NN1&quot;</td><td>&quot;InformationTopics&quot;</td><td>4</td><td>3</td></tr><tr><td>&quot;acad_01&quot;</td><td>&quot;personnel &quot;</td><td>&quot;NN2&quot;</td><td>&quot;Character&quot;</td><td>5</td><td>4</td></tr></tbody></table></div>"
            ]
          },
          "metadata": {},
          "execution_count": 10
        }
      ]
    },
    {
      "cell_type": "markdown",
      "source": [
        "## Creating a frequency table\n",
        "\n",
        "Once we've tokenized our corpus, we can now create a table of token frequencies."
      ],
      "metadata": {
        "id": "26pKPQAdsNFH"
      }
    },
    {
      "cell_type": "code",
      "source": [
        "wc = ds.frequency_table(ds_tokens)"
      ],
      "metadata": {
        "id": "kR8QXqirKs2u"
      },
      "execution_count": 11,
      "outputs": []
    },
    {
      "cell_type": "markdown",
      "source": [
        "The default of the `frequency_table` is to count by parts-of-speech. However, we could just add `frequency_table(ds_tokens, count_by='ds')` to count by DocuScope tags instead."
      ],
      "metadata": {
        "id": "VC2qtlwOuDZw"
      }
    },
    {
      "cell_type": "code",
      "source": [
        "wc.head()"
      ],
      "metadata": {
        "colab": {
          "base_uri": "https://localhost:8080/",
          "height": 255
        },
        "id": "SdhZSTOMKyhx",
        "outputId": "795c867b-d2d2-4677-b748-29b5f75f32f3"
      },
      "execution_count": 12,
      "outputs": [
        {
          "output_type": "execute_result",
          "data": {
            "text/plain": [
              "shape: (5, 5)\n",
              "┌───────┬─────┬───────┬──────────────┬───────┐\n",
              "│ Token ┆ Tag ┆ AF    ┆ RF           ┆ Range │\n",
              "│ ---   ┆ --- ┆ ---   ┆ ---          ┆ ---   │\n",
              "│ str   ┆ str ┆ u32   ┆ f64          ┆ f64   │\n",
              "╞═══════╪═════╪═══════╪══════════════╪═══════╡\n",
              "│ the   ┆ AT  ┆ 51030 ┆ 49907.38332  ┆ 99.75 │\n",
              "│ and   ┆ CC  ┆ 25288 ┆ 24731.685467 ┆ 99.5  │\n",
              "│ of    ┆ IO  ┆ 22492 ┆ 21997.195094 ┆ 99.75 │\n",
              "│ a     ┆ AT1 ┆ 22033 ┆ 21548.292704 ┆ 99.25 │\n",
              "│ to    ┆ TO  ┆ 16269 ┆ 15911.095811 ┆ 99.0  │\n",
              "└───────┴─────┴───────┴──────────────┴───────┘"
            ],
            "text/html": [
              "<div><style>\n",
              ".dataframe > thead > tr,\n",
              ".dataframe > tbody > tr {\n",
              "  text-align: right;\n",
              "  white-space: pre-wrap;\n",
              "}\n",
              "</style>\n",
              "<small>shape: (5, 5)</small><table border=\"1\" class=\"dataframe\"><thead><tr><th>Token</th><th>Tag</th><th>AF</th><th>RF</th><th>Range</th></tr><tr><td>str</td><td>str</td><td>u32</td><td>f64</td><td>f64</td></tr></thead><tbody><tr><td>&quot;the&quot;</td><td>&quot;AT&quot;</td><td>51030</td><td>49907.38332</td><td>99.75</td></tr><tr><td>&quot;and&quot;</td><td>&quot;CC&quot;</td><td>25288</td><td>24731.685467</td><td>99.5</td></tr><tr><td>&quot;of&quot;</td><td>&quot;IO&quot;</td><td>22492</td><td>21997.195094</td><td>99.75</td></tr><tr><td>&quot;a&quot;</td><td>&quot;AT1&quot;</td><td>22033</td><td>21548.292704</td><td>99.25</td></tr><tr><td>&quot;to&quot;</td><td>&quot;TO&quot;</td><td>16269</td><td>15911.095811</td><td>99.0</td></tr></tbody></table></div>"
            ]
          },
          "metadata": {},
          "execution_count": 12
        }
      ]
    },
    {
      "cell_type": "markdown",
      "source": [
        "### Document-feature matrices\n",
        "\n",
        "Another very common data structure that you should get to know is a \"document-feature matrix\" or a \"document-term matrix\". In these stuctures, each row is an observation (or text) and each column is a variable (or the thing we're counting)."
      ],
      "metadata": {
        "id": "Q0isuQP1vH2M"
      }
    },
    {
      "cell_type": "code",
      "source": [
        "dfm = ds.tags_dtm(ds_tokens)"
      ],
      "metadata": {
        "id": "9SeNc0atO0iz"
      },
      "execution_count": 14,
      "outputs": []
    },
    {
      "cell_type": "markdown",
      "source": [
        "And see what it looks like:"
      ],
      "metadata": {
        "id": "UhLsCoS6v9vy"
      }
    },
    {
      "cell_type": "code",
      "source": [
        "dfm.head()"
      ],
      "metadata": {
        "colab": {
          "base_uri": "https://localhost:8080/",
          "height": 275
        },
        "id": "cyApIGd4wAGJ",
        "outputId": "68d5e7c8-56a4-4bee-ccbe-950035e606e9"
      },
      "execution_count": 15,
      "outputs": [
        {
          "output_type": "execute_result",
          "data": {
            "text/plain": [
              "shape: (5, 133)\n",
              "┌─────────┬─────┬─────┬─────┬───┬─────┬──────┬─────┬──────┐\n",
              "│ doc_id  ┆ NN1 ┆ JJ  ┆ II  ┆ … ┆ NNA ┆ NNL2 ┆ NP  ┆ NPD2 │\n",
              "│ ---     ┆ --- ┆ --- ┆ --- ┆   ┆ --- ┆ ---  ┆ --- ┆ ---  │\n",
              "│ str     ┆ u32 ┆ u32 ┆ u32 ┆   ┆ u32 ┆ u32  ┆ u32 ┆ u32  │\n",
              "╞═════════╪═════╪═════╪═════╪═══╪═════╪══════╪═════╪══════╡\n",
              "│ acad_01 ┆ 453 ┆ 278 ┆ 229 ┆ … ┆ 0   ┆ 0    ┆ 0   ┆ 0    │\n",
              "│ acad_02 ┆ 448 ┆ 260 ┆ 215 ┆ … ┆ 0   ┆ 0    ┆ 0   ┆ 0    │\n",
              "│ acad_03 ┆ 425 ┆ 182 ┆ 171 ┆ … ┆ 0   ┆ 0    ┆ 0   ┆ 0    │\n",
              "│ acad_04 ┆ 473 ┆ 272 ┆ 166 ┆ … ┆ 0   ┆ 0    ┆ 0   ┆ 0    │\n",
              "│ acad_05 ┆ 450 ┆ 201 ┆ 184 ┆ … ┆ 0   ┆ 0    ┆ 0   ┆ 0    │\n",
              "└─────────┴─────┴─────┴─────┴───┴─────┴──────┴─────┴──────┘"
            ],
            "text/html": [
              "<div><style>\n",
              ".dataframe > thead > tr,\n",
              ".dataframe > tbody > tr {\n",
              "  text-align: right;\n",
              "  white-space: pre-wrap;\n",
              "}\n",
              "</style>\n",
              "<small>shape: (5, 133)</small><table border=\"1\" class=\"dataframe\"><thead><tr><th>doc_id</th><th>NN1</th><th>JJ</th><th>II</th><th>AT</th><th>NN2</th><th>NP1</th><th>RR</th><th>CC</th><th>VVI</th><th>AT1</th><th>IO</th><th>VV0</th><th>VVD</th><th>MC</th><th>VVN</th><th>VVG</th><th>TO</th><th>VBZ</th><th>APPGE</th><th>PPIS1</th><th>VM</th><th>PPH1</th><th>PPY</th><th>DD1</th><th>PPHS1</th><th>XX</th><th>CS</th><th>VVZ</th><th>CST</th><th>RP</th><th>IF</th><th>VBDZ</th><th>IW</th><th>VBR</th><th>NNT1</th><th>GE</th><th>&hellip;</th><th>NNL1</th><th>NPD1</th><th>NNU2</th><th>CSW</th><th>MCMC</th><th>PPX2</th><th>DB2</th><th>VDN</th><th>VHG</th><th>MC2</th><th>FU</th><th>JK</th><th>FW</th><th>REX</th><th>PN</th><th>NP2</th><th>VHN</th><th>DDQGE</th><th>DDQV</th><th>PPGE</th><th>NNO2</th><th>VMK</th><th>NNU1</th><th>NNO</th><th>PNQO</th><th>BCL</th><th>RRT</th><th>MF</th><th>RPK</th><th>RRQV</th><th>VB0</th><th>RGQV</th><th>PNQV</th><th>NNA</th><th>NNL2</th><th>NP</th><th>NPD2</th></tr><tr><td>str</td><td>u32</td><td>u32</td><td>u32</td><td>u32</td><td>u32</td><td>u32</td><td>u32</td><td>u32</td><td>u32</td><td>u32</td><td>u32</td><td>u32</td><td>u32</td><td>u32</td><td>u32</td><td>u32</td><td>u32</td><td>u32</td><td>u32</td><td>u32</td><td>u32</td><td>u32</td><td>u32</td><td>u32</td><td>u32</td><td>u32</td><td>u32</td><td>u32</td><td>u32</td><td>u32</td><td>u32</td><td>u32</td><td>u32</td><td>u32</td><td>u32</td><td>u32</td><td>&hellip;</td><td>u32</td><td>u32</td><td>u32</td><td>u32</td><td>u32</td><td>u32</td><td>u32</td><td>u32</td><td>u32</td><td>u32</td><td>u32</td><td>u32</td><td>u32</td><td>u32</td><td>u32</td><td>u32</td><td>u32</td><td>u32</td><td>u32</td><td>u32</td><td>u32</td><td>u32</td><td>u32</td><td>u32</td><td>u32</td><td>u32</td><td>u32</td><td>u32</td><td>u32</td><td>u32</td><td>u32</td><td>u32</td><td>u32</td><td>u32</td><td>u32</td><td>u32</td><td>u32</td></tr></thead><tbody><tr><td>&quot;acad_01&quot;</td><td>453</td><td>278</td><td>229</td><td>182</td><td>293</td><td>33</td><td>63</td><td>112</td><td>49</td><td>52</td><td>109</td><td>37</td><td>5</td><td>34</td><td>51</td><td>39</td><td>39</td><td>42</td><td>7</td><td>2</td><td>29</td><td>8</td><td>0</td><td>24</td><td>0</td><td>13</td><td>14</td><td>16</td><td>21</td><td>1</td><td>43</td><td>8</td><td>16</td><td>38</td><td>5</td><td>3</td><td>&hellip;</td><td>0</td><td>0</td><td>0</td><td>0</td><td>0</td><td>0</td><td>1</td><td>0</td><td>0</td><td>0</td><td>0</td><td>1</td><td>0</td><td>2</td><td>0</td><td>0</td><td>0</td><td>1</td><td>0</td><td>0</td><td>0</td><td>0</td><td>0</td><td>0</td><td>0</td><td>0</td><td>1</td><td>0</td><td>0</td><td>0</td><td>0</td><td>0</td><td>0</td><td>0</td><td>0</td><td>0</td><td>0</td></tr><tr><td>&quot;acad_02&quot;</td><td>448</td><td>260</td><td>215</td><td>279</td><td>142</td><td>138</td><td>64</td><td>83</td><td>37</td><td>59</td><td>95</td><td>13</td><td>52</td><td>14</td><td>77</td><td>34</td><td>35</td><td>13</td><td>9</td><td>0</td><td>17</td><td>31</td><td>0</td><td>14</td><td>0</td><td>6</td><td>22</td><td>13</td><td>20</td><td>5</td><td>16</td><td>28</td><td>12</td><td>3</td><td>7</td><td>23</td><td>&hellip;</td><td>0</td><td>0</td><td>0</td><td>3</td><td>0</td><td>2</td><td>1</td><td>1</td><td>1</td><td>5</td><td>0</td><td>2</td><td>2</td><td>1</td><td>0</td><td>3</td><td>0</td><td>2</td><td>0</td><td>0</td><td>0</td><td>0</td><td>1</td><td>0</td><td>1</td><td>0</td><td>0</td><td>0</td><td>0</td><td>0</td><td>0</td><td>0</td><td>0</td><td>0</td><td>0</td><td>0</td><td>0</td></tr><tr><td>&quot;acad_03&quot;</td><td>425</td><td>182</td><td>171</td><td>234</td><td>149</td><td>147</td><td>64</td><td>83</td><td>55</td><td>53</td><td>134</td><td>13</td><td>47</td><td>43</td><td>81</td><td>27</td><td>51</td><td>11</td><td>44</td><td>9</td><td>10</td><td>10</td><td>0</td><td>23</td><td>12</td><td>16</td><td>14</td><td>23</td><td>31</td><td>3</td><td>17</td><td>38</td><td>18</td><td>5</td><td>5</td><td>20</td><td>&hellip;</td><td>0</td><td>1</td><td>0</td><td>0</td><td>1</td><td>0</td><td>0</td><td>1</td><td>0</td><td>0</td><td>0</td><td>1</td><td>0</td><td>0</td><td>0</td><td>1</td><td>0</td><td>2</td><td>1</td><td>0</td><td>1</td><td>1</td><td>0</td><td>0</td><td>0</td><td>1</td><td>0</td><td>0</td><td>0</td><td>0</td><td>0</td><td>0</td><td>0</td><td>0</td><td>0</td><td>0</td><td>0</td></tr><tr><td>&quot;acad_04&quot;</td><td>473</td><td>272</td><td>166</td><td>206</td><td>187</td><td>65</td><td>70</td><td>81</td><td>40</td><td>53</td><td>119</td><td>12</td><td>56</td><td>57</td><td>86</td><td>30</td><td>38</td><td>5</td><td>7</td><td>5</td><td>20</td><td>21</td><td>0</td><td>11</td><td>1</td><td>10</td><td>25</td><td>3</td><td>21</td><td>5</td><td>21</td><td>48</td><td>17</td><td>1</td><td>14</td><td>8</td><td>&hellip;</td><td>0</td><td>0</td><td>1</td><td>1</td><td>0</td><td>0</td><td>4</td><td>0</td><td>1</td><td>9</td><td>1</td><td>0</td><td>0</td><td>0</td><td>0</td><td>0</td><td>1</td><td>0</td><td>0</td><td>0</td><td>0</td><td>0</td><td>2</td><td>0</td><td>0</td><td>0</td><td>0</td><td>0</td><td>0</td><td>0</td><td>0</td><td>0</td><td>0</td><td>0</td><td>0</td><td>0</td><td>0</td></tr><tr><td>&quot;acad_05&quot;</td><td>450</td><td>201</td><td>184</td><td>180</td><td>218</td><td>80</td><td>82</td><td>74</td><td>44</td><td>65</td><td>95</td><td>20</td><td>31</td><td>65</td><td>79</td><td>35</td><td>33</td><td>25</td><td>5</td><td>0</td><td>46</td><td>6</td><td>0</td><td>23</td><td>0</td><td>15</td><td>35</td><td>23</td><td>19</td><td>9</td><td>19</td><td>26</td><td>19</td><td>13</td><td>7</td><td>6</td><td>&hellip;</td><td>2</td><td>0</td><td>4</td><td>1</td><td>0</td><td>0</td><td>1</td><td>0</td><td>0</td><td>0</td><td>0</td><td>3</td><td>1</td><td>3</td><td>0</td><td>0</td><td>0</td><td>1</td><td>0</td><td>0</td><td>0</td><td>0</td><td>1</td><td>1</td><td>0</td><td>0</td><td>0</td><td>0</td><td>0</td><td>0</td><td>0</td><td>0</td><td>0</td><td>0</td><td>0</td><td>0</td><td>0</td></tr></tbody></table></div>"
            ]
          },
          "metadata": {},
          "execution_count": 15
        }
      ]
    },
    {
      "cell_type": "markdown",
      "source": [
        "From that matrix (or table) we can create a summary table of our corpus data."
      ],
      "metadata": {
        "id": "dNhzFYKhwKBv"
      }
    },
    {
      "cell_type": "code",
      "source": [
        "totals = (dfm\n",
        "          .with_columns(\n",
        "              pl.sum_horizontal(pl.exclude(\"doc_id\").alias(\"total\"))\n",
        "              ) # get the total words of each document by summing each row\n",
        "          .select(\"doc_id\", \"total\") # select the columns we want\n",
        "          .with_columns(\n",
        "              pl.col(\"doc_id\").str.extract(r\"^([a-z]+)\", 1).alias(\"text_type\")\n",
        "          ) # extract the text-type from the doc_id\n",
        "          ).group_by(\"text_type\").agg(pl.col(\"total\").sum()).sort(\"text_type\") # aggregate using text_type as a group"
      ],
      "metadata": {
        "id": "dtYT7eIQPDZq"
      },
      "execution_count": 16,
      "outputs": []
    },
    {
      "cell_type": "markdown",
      "source": [
        "Peek at the result:"
      ],
      "metadata": {
        "id": "3KUIazXLwvM2"
      }
    },
    {
      "cell_type": "code",
      "source": [
        "totals.head()"
      ],
      "metadata": {
        "colab": {
          "base_uri": "https://localhost:8080/",
          "height": 255
        },
        "id": "OsZIMqr9Up9V",
        "outputId": "34f24341-057f-4825-841e-afca23ef1fa0"
      },
      "execution_count": 17,
      "outputs": [
        {
          "output_type": "execute_result",
          "data": {
            "text/plain": [
              "shape: (5, 2)\n",
              "┌───────────┬────────┐\n",
              "│ text_type ┆ total  │\n",
              "│ ---       ┆ ---    │\n",
              "│ str       ┆ u32    │\n",
              "╞═══════════╪════════╡\n",
              "│ acad      ┆ 125095 │\n",
              "│ blog      ┆ 127443 │\n",
              "│ fic       ┆ 129240 │\n",
              "│ mag       ┆ 128869 │\n",
              "│ news      ┆ 127402 │\n",
              "└───────────┴────────┘"
            ],
            "text/html": [
              "<div><style>\n",
              ".dataframe > thead > tr,\n",
              ".dataframe > tbody > tr {\n",
              "  text-align: right;\n",
              "  white-space: pre-wrap;\n",
              "}\n",
              "</style>\n",
              "<small>shape: (5, 2)</small><table border=\"1\" class=\"dataframe\"><thead><tr><th>text_type</th><th>total</th></tr><tr><td>str</td><td>u32</td></tr></thead><tbody><tr><td>&quot;acad&quot;</td><td>125095</td></tr><tr><td>&quot;blog&quot;</td><td>127443</td></tr><tr><td>&quot;fic&quot;</td><td>129240</td></tr><tr><td>&quot;mag&quot;</td><td>128869</td></tr><tr><td>&quot;news&quot;</td><td>127402</td></tr></tbody></table></div>"
            ]
          },
          "metadata": {},
          "execution_count": 17
        }
      ]
    },
    {
      "cell_type": "markdown",
      "source": [
        "### Using `great_tables`\n",
        "\n",
        "Now it is simple to make a table for output."
      ],
      "metadata": {
        "id": "aoNEv-GWw26g"
      }
    },
    {
      "cell_type": "code",
      "source": [
        "gt_tbl = GT(totals)"
      ],
      "metadata": {
        "id": "dItkXFNkR9EA"
      },
      "execution_count": 19,
      "outputs": []
    },
    {
      "cell_type": "code",
      "source": [
        "gt_tbl"
      ],
      "metadata": {
        "colab": {
          "base_uri": "https://localhost:8080/",
          "height": 368
        },
        "id": "0La9h_7GxGaE",
        "outputId": "8c029c70-caff-44de-c12e-dbd5bc11558d"
      },
      "execution_count": 20,
      "outputs": [
        {
          "output_type": "execute_result",
          "data": {
            "text/plain": [
              "GT(_tbl_data=shape: (8, 2)\n",
              "┌───────────┬────────┐\n",
              "│ text_type ┆ total  │\n",
              "│ ---       ┆ ---    │\n",
              "│ str       ┆ u32    │\n",
              "╞═══════════╪════════╡\n",
              "│ acad      ┆ 125095 │\n",
              "│ blog      ┆ 127443 │\n",
              "│ fic       ┆ 129240 │\n",
              "│ mag       ┆ 128869 │\n",
              "│ news      ┆ 127402 │\n",
              "│ spok      ┆ 128702 │\n",
              "│ tvm       ┆ 128974 │\n",
              "│ web       ┆ 126769 │\n",
              "└───────────┴────────┘, _body=<great_tables._gt_data.Body object at 0x7e0657fa5050>, _boxhead=Boxhead([ColInfo(var='text_type', type=<ColInfoTypeEnum.default: 1>, column_label='text_type', column_align='left', column_width=None), ColInfo(var='total', type=<ColInfoTypeEnum.default: 1>, column_label='total', column_align='right', column_width=None)]), _stub=<great_tables._gt_data.Stub object at 0x7e063d596490>, _spanners=Spanners([]), _heading=Heading(title=None, subtitle=None, preheader=None), _stubhead=None, _source_notes=[], _footnotes=[], _styles=[], _locale=<great_tables._gt_data.Locale object at 0x7e0760d39410>, _formats=[], _substitutions=[], _options=Options(table_id=OptionsInfo(scss=False, category='table', type='value', value=None), table_caption=OptionsInfo(scss=False, category='table', type='value', value=None), table_width=OptionsInfo(scss=True, category='table', type='px', value='auto'), table_layout=OptionsInfo(scss=True, category='table', type='value', value='fixed'), table_margin_left=OptionsInfo(scss=True, category='table', type='px', value='auto'), table_margin_right=OptionsInfo(scss=True, category='table', type='px', value='auto'), table_background_color=OptionsInfo(scss=True, category='table', type='value', value='#FFFFFF'), table_additional_css=OptionsInfo(scss=False, category='table', type='values', value=[]), table_font_names=OptionsInfo(scss=False, category='table', type='values', value=['-apple-system', 'BlinkMacSystemFont', 'Segoe UI', 'Roboto', 'Oxygen', 'Ubuntu', 'Cantarell', 'Helvetica Neue', 'Fira Sans', 'Droid Sans', 'Arial', 'sans-serif']), table_font_size=OptionsInfo(scss=True, category='table', type='px', value='16px'), table_font_weight=OptionsInfo(scss=True, category='table', type='value', value='normal'), table_font_style=OptionsInfo(scss=True, category='table', type='value', value='normal'), table_font_color=OptionsInfo(scss=True, category='table', type='value', value='#333333'), table_font_color_light=OptionsInfo(scss=True, category='table', type='value', value='#FFFFFF'), table_border_top_include=OptionsInfo(scss=False, category='table', type='boolean', value=True), table_border_top_style=OptionsInfo(scss=True, category='table', type='value', value='solid'), table_border_top_width=OptionsInfo(scss=True, category='table', type='px', value='2px'), table_border_top_color=OptionsInfo(scss=True, category='table', type='value', value='#A8A8A8'), table_border_right_style=OptionsInfo(scss=True, category='table', type='value', value='none'), table_border_right_width=OptionsInfo(scss=True, category='table', type='px', value='2px'), table_border_right_color=OptionsInfo(scss=True, category='table', type='value', value='#D3D3D3'), table_border_bottom_include=OptionsInfo(scss=False, category='table', type='boolean', value=True), table_border_bottom_style=OptionsInfo(scss=True, category='table', type='value', value='solid'), table_border_bottom_width=OptionsInfo(scss=True, category='table', type='px', value='2px'), table_border_bottom_color=OptionsInfo(scss=True, category='table', type='value', value='#A8A8A8'), table_border_left_style=OptionsInfo(scss=True, category='table', type='value', value='none'), table_border_left_width=OptionsInfo(scss=True, category='table', type='px', value='2px'), table_border_left_color=OptionsInfo(scss=True, category='table', type='value', value='#D3D3D3'), heading_background_color=OptionsInfo(scss=True, category='heading', type='value', value=None), heading_align=OptionsInfo(scss=True, category='heading', type='value', value='center'), heading_title_font_size=OptionsInfo(scss=True, category='heading', type='px', value='125%'), heading_title_font_weight=OptionsInfo(scss=True, category='heading', type='value', value='initial'), heading_subtitle_font_size=OptionsInfo(scss=True, category='heading', type='px', value='85%'), heading_subtitle_font_weight=OptionsInfo(scss=True, category='heading', type='value', value='initial'), heading_padding=OptionsInfo(scss=True, category='heading', type='px', value='4px'), heading_padding_horizontal=OptionsInfo(scss=True, category='heading', type='px', value='5px'), heading_border_bottom_style=OptionsInfo(scss=True, category='heading', type='value', value='solid'), heading_border_bottom_width=OptionsInfo(scss=True, category='heading', type='px', value='2px'), heading_border_bottom_color=OptionsInfo(scss=True, category='heading', type='value', value='#D3D3D3'), heading_border_lr_style=OptionsInfo(scss=True, category='heading', type='value', value='none'), heading_border_lr_width=OptionsInfo(scss=True, category='heading', type='px', value='1px'), heading_border_lr_color=OptionsInfo(scss=True, category='heading', type='value', value='#D3D3D3'), column_labels_background_color=OptionsInfo(scss=True, category='column_labels', type='value', value=None), column_labels_font_size=OptionsInfo(scss=True, category='column_labels', type='px', value='100%'), column_labels_font_weight=OptionsInfo(scss=True, category='column_labels', type='value', value='normal'), column_labels_text_transform=OptionsInfo(scss=True, category='column_labels', type='value', value='inherit'), column_labels_padding=OptionsInfo(scss=True, category='column_labels', type='px', value='5px'), column_labels_padding_horizontal=OptionsInfo(scss=True, category='column_labels', type='px', value='5px'), column_labels_vlines_style=OptionsInfo(scss=True, category='table_body', type='value', value='none'), column_labels_vlines_width=OptionsInfo(scss=True, category='table_body', type='px', value='1px'), column_labels_vlines_color=OptionsInfo(scss=True, category='table_body', type='value', value='#D3D3D3'), column_labels_border_top_style=OptionsInfo(scss=True, category='column_labels', type='value', value='solid'), column_labels_border_top_width=OptionsInfo(scss=True, category='column_labels', type='px', value='2px'), column_labels_border_top_color=OptionsInfo(scss=True, category='column_labels', type='value', value='#D3D3D3'), column_labels_border_bottom_style=OptionsInfo(scss=True, category='column_labels', type='value', value='solid'), column_labels_border_bottom_width=OptionsInfo(scss=True, category='column_labels', type='px', value='2px'), column_labels_border_bottom_color=OptionsInfo(scss=True, category='column_labels', type='value', value='#D3D3D3'), column_labels_border_lr_style=OptionsInfo(scss=True, category='column_labels', type='value', value='none'), column_labels_border_lr_width=OptionsInfo(scss=True, category='column_labels', type='px', value='1px'), column_labels_border_lr_color=OptionsInfo(scss=True, category='column_labels', type='value', value='#D3D3D3'), column_labels_hidden=OptionsInfo(scss=False, category='column_labels', type='boolean', value=False), row_group_background_color=OptionsInfo(scss=True, category='row_group', type='value', value=None), row_group_font_size=OptionsInfo(scss=True, category='row_group', type='px', value='100%'), row_group_font_weight=OptionsInfo(scss=True, category='row_group', type='value', value='initial'), row_group_text_transform=OptionsInfo(scss=True, category='row_group', type='value', value='inherit'), row_group_padding=OptionsInfo(scss=True, category='row_group', type='px', value='8px'), row_group_padding_horizontal=OptionsInfo(scss=True, category='row_group', type='px', value='5px'), row_group_border_top_style=OptionsInfo(scss=True, category='row_group', type='value', value='solid'), row_group_border_top_width=OptionsInfo(scss=True, category='row_group', type='px', value='2px'), row_group_border_top_color=OptionsInfo(scss=True, category='row_group', type='value', value='#D3D3D3'), row_group_border_right_style=OptionsInfo(scss=True, category='row_group', type='value', value='none'), row_group_border_right_width=OptionsInfo(scss=True, category='row_group', type='px', value='1px'), row_group_border_right_color=OptionsInfo(scss=True, category='row_group', type='value', value='#D3D3D3'), row_group_border_bottom_style=OptionsInfo(scss=True, category='row_group', type='value', value='solid'), row_group_border_bottom_width=OptionsInfo(scss=True, category='row_group', type='px', value='2px'), row_group_border_bottom_color=OptionsInfo(scss=True, category='row_group', type='value', value='#D3D3D3'), row_group_border_left_style=OptionsInfo(scss=True, category='row_group', type='value', value='none'), row_group_border_left_width=OptionsInfo(scss=True, category='row_group', type='px', value='1px'), row_group_border_left_color=OptionsInfo(scss=True, category='row_group', type='value', value='#D3D3D3'), row_group_as_column=OptionsInfo(scss=False, category='row_group', type='boolean', value=False), table_body_hlines_style=OptionsInfo(scss=True, category='table_body', type='value', value='solid'), table_body_hlines_width=OptionsInfo(scss=True, category='table_body', type='px', value='1px'), table_body_hlines_color=OptionsInfo(scss=True, category='table_body', type='value', value='#D3D3D3'), table_body_vlines_style=OptionsInfo(scss=True, category='table_body', type='value', value='none'), table_body_vlines_width=OptionsInfo(scss=True, category='table_body', type='px', value='1px'), table_body_vlines_color=OptionsInfo(scss=True, category='table_body', type='value', value='#D3D3D3'), table_body_border_top_style=OptionsInfo(scss=True, category='table_body', type='value', value='solid'), table_body_border_top_width=OptionsInfo(scss=True, category='table_body', type='px', value='2px'), table_body_border_top_color=OptionsInfo(scss=True, category='table_body', type='value', value='#D3D3D3'), table_body_border_bottom_style=OptionsInfo(scss=True, category='table_body', type='value', value='solid'), table_body_border_bottom_width=OptionsInfo(scss=True, category='table_body', type='px', value='2px'), table_body_border_bottom_color=OptionsInfo(scss=True, category='table_body', type='value', value='#D3D3D3'), data_row_padding=OptionsInfo(scss=True, category='data_row', type='px', value='8px'), data_row_padding_horizontal=OptionsInfo(scss=True, category='data_row', type='px', value='5px'), stub_background_color=OptionsInfo(scss=True, category='stub', type='value', value=None), stub_font_size=OptionsInfo(scss=True, category='stub', type='px', value='100%'), stub_font_weight=OptionsInfo(scss=True, category='stub', type='value', value='initial'), stub_text_transform=OptionsInfo(scss=True, category='stub', type='value', value='inherit'), stub_border_style=OptionsInfo(scss=True, category='stub', type='value', value='solid'), stub_border_width=OptionsInfo(scss=True, category='stub', type='px', value='2px'), stub_border_color=OptionsInfo(scss=True, category='stub', type='value', value='#D3D3D3'), stub_row_group_background_color=OptionsInfo(scss=True, category='stub', type='value', value=None), stub_row_group_font_size=OptionsInfo(scss=True, category='stub', type='px', value='100%'), stub_row_group_font_weight=OptionsInfo(scss=True, category='stub', type='value', value='initial'), stub_row_group_text_transform=OptionsInfo(scss=True, category='stub', type='value', value='inherit'), stub_row_group_border_style=OptionsInfo(scss=True, category='stub', type='value', value='solid'), stub_row_group_border_width=OptionsInfo(scss=True, category='stub', type='px', value='2px'), stub_row_group_border_color=OptionsInfo(scss=True, category='stub', type='value', value='#D3D3D3'), source_notes_padding=OptionsInfo(scss=True, category='source_notes', type='px', value='4px'), source_notes_padding_horizontal=OptionsInfo(scss=True, category='source_notes', type='px', value='5px'), source_notes_background_color=OptionsInfo(scss=True, category='source_notes', type='value', value=None), source_notes_font_size=OptionsInfo(scss=True, category='source_notes', type='px', value='90%'), source_notes_border_bottom_style=OptionsInfo(scss=True, category='source_notes', type='value', value='none'), source_notes_border_bottom_width=OptionsInfo(scss=True, category='source_notes', type='px', value='2px'), source_notes_border_bottom_color=OptionsInfo(scss=True, category='source_notes', type='value', value='#D3D3D3'), source_notes_border_lr_style=OptionsInfo(scss=True, category='source_notes', type='value', value='none'), source_notes_border_lr_width=OptionsInfo(scss=True, category='source_notes', type='px', value='2px'), source_notes_border_lr_color=OptionsInfo(scss=True, category='source_notes', type='value', value='#D3D3D3'), source_notes_multiline=OptionsInfo(scss=False, category='source_notes', type='boolean', value=True), source_notes_sep=OptionsInfo(scss=False, category='source_notes', type='value', value=' '), row_striping_background_color=OptionsInfo(scss=True, category='row', type='value', value='rgba(128,128,128,0.05)'), row_striping_include_stub=OptionsInfo(scss=False, category='row', type='boolean', value=False), row_striping_include_table_body=OptionsInfo(scss=False, category='row', type='boolean', value=False), container_width=OptionsInfo(scss=False, category='container', type='px', value='auto'), container_height=OptionsInfo(scss=False, category='container', type='px', value='auto'), container_padding_x=OptionsInfo(scss=False, category='container', type='px', value='0px'), container_padding_y=OptionsInfo(scss=False, category='container', type='px', value='10px'), container_overflow_x=OptionsInfo(scss=False, category='container', type='overflow', value='auto'), container_overflow_y=OptionsInfo(scss=False, category='container', type='overflow', value='auto'), quarto_disable_processing=OptionsInfo(scss=False, category='quarto', type='logical', value=False), quarto_use_bootstrap=OptionsInfo(scss=False, category='quarto', type='logical', value=False)), _has_built=False)"
            ],
            "text/html": [
              "<div id=\"chnatawyhw\" style=\"padding-left:0px;padding-right:0px;padding-top:10px;padding-bottom:10px;overflow-x:auto;overflow-y:auto;width:auto;height:auto;\">\n",
              "<style>\n",
              "#chnatawyhw table {\n",
              "          font-family: -apple-system, BlinkMacSystemFont, 'Segoe UI', Roboto, Oxygen, Ubuntu, Cantarell, 'Helvetica Neue', 'Fira Sans', 'Droid Sans', Arial, sans-serif;\n",
              "          -webkit-font-smoothing: antialiased;\n",
              "          -moz-osx-font-smoothing: grayscale;\n",
              "        }\n",
              "\n",
              "#chnatawyhw thead, tbody, tfoot, tr, td, th { border-style: none; }\n",
              " tr { background-color: transparent; }\n",
              "#chnatawyhw p { margin: 0; padding: 0; }\n",
              " #chnatawyhw .gt_table { display: table; border-collapse: collapse; line-height: normal; margin-left: auto; margin-right: auto; color: #333333; font-size: 16px; font-weight: normal; font-style: normal; background-color: #FFFFFF; width: auto; border-top-style: solid; border-top-width: 2px; border-top-color: #A8A8A8; border-right-style: none; border-right-width: 2px; border-right-color: #D3D3D3; border-bottom-style: solid; border-bottom-width: 2px; border-bottom-color: #A8A8A8; border-left-style: none; border-left-width: 2px; border-left-color: #D3D3D3; }\n",
              " #chnatawyhw .gt_caption { padding-top: 4px; padding-bottom: 4px; }\n",
              " #chnatawyhw .gt_title { color: #333333; font-size: 125%; font-weight: initial; padding-top: 4px; padding-bottom: 4px; padding-left: 5px; padding-right: 5px; border-bottom-color: #FFFFFF; border-bottom-width: 0; }\n",
              " #chnatawyhw .gt_subtitle { color: #333333; font-size: 85%; font-weight: initial; padding-top: 3px; padding-bottom: 5px; padding-left: 5px; padding-right: 5px; border-top-color: #FFFFFF; border-top-width: 0; }\n",
              " #chnatawyhw .gt_heading { background-color: #FFFFFF; text-align: center; border-bottom-color: #FFFFFF; border-left-style: none; border-left-width: 1px; border-left-color: #D3D3D3; border-right-style: none; border-right-width: 1px; border-right-color: #D3D3D3; }\n",
              " #chnatawyhw .gt_bottom_border { border-bottom-style: solid; border-bottom-width: 2px; border-bottom-color: #D3D3D3; }\n",
              " #chnatawyhw .gt_col_headings { border-top-style: solid; border-top-width: 2px; border-top-color: #D3D3D3; border-bottom-style: solid; border-bottom-width: 2px; border-bottom-color: #D3D3D3; border-left-style: none; border-left-width: 1px; border-left-color: #D3D3D3; border-right-style: none; border-right-width: 1px; border-right-color: #D3D3D3; }\n",
              " #chnatawyhw .gt_col_heading { color: #333333; background-color: #FFFFFF; font-size: 100%; font-weight: normal; text-transform: inherit; border-left-style: none; border-left-width: 1px; border-left-color: #D3D3D3; border-right-style: none; border-right-width: 1px; border-right-color: #D3D3D3; vertical-align: bottom; padding-top: 5px; padding-bottom: 5px; padding-left: 5px; padding-right: 5px; overflow-x: hidden; }\n",
              " #chnatawyhw .gt_column_spanner_outer { color: #333333; background-color: #FFFFFF; font-size: 100%; font-weight: normal; text-transform: inherit; padding-top: 0; padding-bottom: 0; padding-left: 4px; padding-right: 4px; }\n",
              " #chnatawyhw .gt_column_spanner_outer:first-child { padding-left: 0; }\n",
              " #chnatawyhw .gt_column_spanner_outer:last-child { padding-right: 0; }\n",
              " #chnatawyhw .gt_column_spanner { border-bottom-style: solid; border-bottom-width: 2px; border-bottom-color: #D3D3D3; vertical-align: bottom; padding-top: 5px; padding-bottom: 5px; overflow-x: hidden; display: inline-block; width: 100%; }\n",
              " #chnatawyhw .gt_spanner_row { border-bottom-style: hidden; }\n",
              " #chnatawyhw .gt_group_heading { padding-top: 8px; padding-bottom: 8px; padding-left: 5px; padding-right: 5px; color: #333333; background-color: #FFFFFF; font-size: 100%; font-weight: initial; text-transform: inherit; border-top-style: solid; border-top-width: 2px; border-top-color: #D3D3D3; border-bottom-style: solid; border-bottom-width: 2px; border-bottom-color: #D3D3D3; border-left-style: none; border-left-width: 1px; border-left-color: #D3D3D3; border-right-style: none; border-right-width: 1px; border-right-color: #D3D3D3; vertical-align: middle; text-align: left; }\n",
              " #chnatawyhw .gt_empty_group_heading { padding: 0.5px; color: #333333; background-color: #FFFFFF; font-size: 100%; font-weight: initial; border-top-style: solid; border-top-width: 2px; border-top-color: #D3D3D3; border-bottom-style: solid; border-bottom-width: 2px; border-bottom-color: #D3D3D3; vertical-align: middle; }\n",
              " #chnatawyhw .gt_from_md> :first-child { margin-top: 0; }\n",
              " #chnatawyhw .gt_from_md> :last-child { margin-bottom: 0; }\n",
              " #chnatawyhw .gt_row { padding-top: 8px; padding-bottom: 8px; padding-left: 5px; padding-right: 5px; margin: 10px; border-top-style: solid; border-top-width: 1px; border-top-color: #D3D3D3; border-left-style: none; border-left-width: 1px; border-left-color: #D3D3D3; border-right-style: none; border-right-width: 1px; border-right-color: #D3D3D3; vertical-align: middle; overflow-x: hidden; }\n",
              " #chnatawyhw .gt_stub { color: #333333; background-color: #FFFFFF; font-size: 100%; font-weight: initial; text-transform: inherit; border-right-style: solid; border-right-width: 2px; border-right-color: #D3D3D3; padding-left: 5px; padding-right: 5px; }\n",
              " #chnatawyhw .gt_stub_row_group { color: #333333; background-color: #FFFFFF; font-size: 100%; font-weight: initial; text-transform: inherit; border-right-style: solid; border-right-width: 2px; border-right-color: #D3D3D3; padding-left: 5px; padding-right: 5px; vertical-align: top; }\n",
              " #chnatawyhw .gt_row_group_first td { border-top-width: 2px; }\n",
              " #chnatawyhw .gt_row_group_first th { border-top-width: 2px; }\n",
              " #chnatawyhw .gt_striped { background-color: rgba(128,128,128,0.05); }\n",
              " #chnatawyhw .gt_table_body { border-top-style: solid; border-top-width: 2px; border-top-color: #D3D3D3; border-bottom-style: solid; border-bottom-width: 2px; border-bottom-color: #D3D3D3; }\n",
              " #chnatawyhw .gt_sourcenotes { color: #333333; background-color: #FFFFFF; border-bottom-style: none; border-bottom-width: 2px; border-bottom-color: #D3D3D3; border-left-style: none; border-left-width: 2px; border-left-color: #D3D3D3; border-right-style: none; border-right-width: 2px; border-right-color: #D3D3D3; }\n",
              " #chnatawyhw .gt_sourcenote { font-size: 90%; padding-top: 4px; padding-bottom: 4px; padding-left: 5px; padding-right: 5px; text-align: left; }\n",
              " #chnatawyhw .gt_left { text-align: left; }\n",
              " #chnatawyhw .gt_center { text-align: center; }\n",
              " #chnatawyhw .gt_right { text-align: right; font-variant-numeric: tabular-nums; }\n",
              " #chnatawyhw .gt_font_normal { font-weight: normal; }\n",
              " #chnatawyhw .gt_font_bold { font-weight: bold; }\n",
              " #chnatawyhw .gt_font_italic { font-style: italic; }\n",
              " #chnatawyhw .gt_super { font-size: 65%; }\n",
              " #chnatawyhw .gt_footnote_marks { font-size: 75%; vertical-align: 0.4em; position: initial; }\n",
              " #chnatawyhw .gt_asterisk { font-size: 100%; vertical-align: 0; }\n",
              " \n",
              "</style>\n",
              "<table class=\"gt_table\" data-quarto-disable-processing=\"false\" data-quarto-bootstrap=\"false\">\n",
              "<thead>\n",
              "\n",
              "<tr class=\"gt_col_headings\">\n",
              "  <th class=\"gt_col_heading gt_columns_bottom_border gt_left\" rowspan=\"1\" colspan=\"1\" scope=\"col\" id=\"text_type\">text_type</th>\n",
              "  <th class=\"gt_col_heading gt_columns_bottom_border gt_right\" rowspan=\"1\" colspan=\"1\" scope=\"col\" id=\"total\">total</th>\n",
              "</tr>\n",
              "</thead>\n",
              "<tbody class=\"gt_table_body\">\n",
              "  <tr>\n",
              "    <td class=\"gt_row gt_left\">acad</td>\n",
              "    <td class=\"gt_row gt_right\">125095</td>\n",
              "  </tr>\n",
              "  <tr>\n",
              "    <td class=\"gt_row gt_left\">blog</td>\n",
              "    <td class=\"gt_row gt_right\">127443</td>\n",
              "  </tr>\n",
              "  <tr>\n",
              "    <td class=\"gt_row gt_left\">fic</td>\n",
              "    <td class=\"gt_row gt_right\">129240</td>\n",
              "  </tr>\n",
              "  <tr>\n",
              "    <td class=\"gt_row gt_left\">mag</td>\n",
              "    <td class=\"gt_row gt_right\">128869</td>\n",
              "  </tr>\n",
              "  <tr>\n",
              "    <td class=\"gt_row gt_left\">news</td>\n",
              "    <td class=\"gt_row gt_right\">127402</td>\n",
              "  </tr>\n",
              "  <tr>\n",
              "    <td class=\"gt_row gt_left\">spok</td>\n",
              "    <td class=\"gt_row gt_right\">128702</td>\n",
              "  </tr>\n",
              "  <tr>\n",
              "    <td class=\"gt_row gt_left\">tvm</td>\n",
              "    <td class=\"gt_row gt_right\">128974</td>\n",
              "  </tr>\n",
              "  <tr>\n",
              "    <td class=\"gt_row gt_left\">web</td>\n",
              "    <td class=\"gt_row gt_right\">126769</td>\n",
              "  </tr>\n",
              "</tbody>\n",
              "\n",
              "\n",
              "</table>\n",
              "\n",
              "</div>\n",
              "        "
            ]
          },
          "metadata": {},
          "execution_count": 20
        }
      ]
    },
    {
      "cell_type": "markdown",
      "source": [
        "Not only can that table be [manipulated and designed in myriad ways](https://posit-dev.github.io/great-tables/examples/), but it can be directly ouput in various formats."
      ],
      "metadata": {
        "id": "DpxwyZH7xMcU"
      }
    },
    {
      "cell_type": "code",
      "source": [
        "gt_tbl.as_latex()"
      ],
      "metadata": {
        "colab": {
          "base_uri": "https://localhost:8080/",
          "height": 55
        },
        "id": "GRlPlB4LUSG-",
        "outputId": "4202e8cb-5b7d-4840-d610-c4e7c1f069d2"
      },
      "execution_count": 21,
      "outputs": [
        {
          "output_type": "execute_result",
          "data": {
            "text/plain": [
              "'\\\\begin{table}[!t]\\n\\n\\n\\\\fontsize{12.0pt}{14.4pt}\\\\selectfont\\n\\n\\\\begin{tabular*}{\\\\linewidth}{@{\\\\extracolsep{\\\\fill}}lr}\\n\\\\toprule\\ntext\\\\_type & total \\\\\\\\ \\n\\\\midrule\\\\addlinespace[2.5pt]\\nacad & 125095 \\\\\\\\\\nblog & 127443 \\\\\\\\\\nfic & 129240 \\\\\\\\\\nmag & 128869 \\\\\\\\\\nnews & 127402 \\\\\\\\\\nspok & 128702 \\\\\\\\\\ntvm & 128974 \\\\\\\\\\nweb & 126769 \\\\\\\\\\n\\\\bottomrule\\n\\\\end{tabular*}\\n\\n\\\\end{table}\\n'"
            ],
            "application/vnd.google.colaboratory.intrinsic+json": {
              "type": "string"
            }
          },
          "metadata": {},
          "execution_count": 21
        }
      ]
    },
    {
      "cell_type": "markdown",
      "source": [
        "## Some properties of token frequencies\n",
        "\n",
        "Now let's go back to our frequency table."
      ],
      "metadata": {
        "id": "rFZ4WXgBxxbJ"
      }
    },
    {
      "cell_type": "code",
      "source": [
        "wc.head()"
      ],
      "metadata": {
        "colab": {
          "base_uri": "https://localhost:8080/",
          "height": 255
        },
        "id": "xLDZ1KS3x7lI",
        "outputId": "37144ae1-9d6f-4fb9-b610-1499f8baa1e7"
      },
      "execution_count": 22,
      "outputs": [
        {
          "output_type": "execute_result",
          "data": {
            "text/plain": [
              "shape: (5, 5)\n",
              "┌───────┬─────┬───────┬──────────────┬───────┐\n",
              "│ Token ┆ Tag ┆ AF    ┆ RF           ┆ Range │\n",
              "│ ---   ┆ --- ┆ ---   ┆ ---          ┆ ---   │\n",
              "│ str   ┆ str ┆ u32   ┆ f64          ┆ f64   │\n",
              "╞═══════╪═════╪═══════╪══════════════╪═══════╡\n",
              "│ the   ┆ AT  ┆ 51030 ┆ 49907.38332  ┆ 99.75 │\n",
              "│ and   ┆ CC  ┆ 25288 ┆ 24731.685467 ┆ 99.5  │\n",
              "│ of    ┆ IO  ┆ 22492 ┆ 21997.195094 ┆ 99.75 │\n",
              "│ a     ┆ AT1 ┆ 22033 ┆ 21548.292704 ┆ 99.25 │\n",
              "│ to    ┆ TO  ┆ 16269 ┆ 15911.095811 ┆ 99.0  │\n",
              "└───────┴─────┴───────┴──────────────┴───────┘"
            ],
            "text/html": [
              "<div><style>\n",
              ".dataframe > thead > tr,\n",
              ".dataframe > tbody > tr {\n",
              "  text-align: right;\n",
              "  white-space: pre-wrap;\n",
              "}\n",
              "</style>\n",
              "<small>shape: (5, 5)</small><table border=\"1\" class=\"dataframe\"><thead><tr><th>Token</th><th>Tag</th><th>AF</th><th>RF</th><th>Range</th></tr><tr><td>str</td><td>str</td><td>u32</td><td>f64</td><td>f64</td></tr></thead><tbody><tr><td>&quot;the&quot;</td><td>&quot;AT&quot;</td><td>51030</td><td>49907.38332</td><td>99.75</td></tr><tr><td>&quot;and&quot;</td><td>&quot;CC&quot;</td><td>25288</td><td>24731.685467</td><td>99.5</td></tr><tr><td>&quot;of&quot;</td><td>&quot;IO&quot;</td><td>22492</td><td>21997.195094</td><td>99.75</td></tr><tr><td>&quot;a&quot;</td><td>&quot;AT1&quot;</td><td>22033</td><td>21548.292704</td><td>99.25</td></tr><tr><td>&quot;to&quot;</td><td>&quot;TO&quot;</td><td>16269</td><td>15911.095811</td><td>99.0</td></tr></tbody></table></div>"
            ]
          },
          "metadata": {},
          "execution_count": 22
        }
      ]
    },
    {
      "cell_type": "markdown",
      "source": [
        "Just glacing at the top of the table, a couple of things are obvious. The first is that on their own, frequencies aren't obviously interpretable. The most frequent words in most English language corpora will look much like this one.\n",
        "\n",
        "Another issue is a property of word (or token) frequencies called [Zipf's Law](https://en.wikipedia.org/wiki/Zipf%27s_law). To get a sense of what it is and it's implications let's create a simple plot.\n",
        "\n",
        "We'll add a row index, which we'll call `rank` and take the first 250 rows."
      ],
      "metadata": {
        "id": "R9iZ4gqsx_5p"
      }
    },
    {
      "cell_type": "code",
      "source": [
        "plot_df = wc.with_row_index(\"rank\", offset=1).head(250)"
      ],
      "metadata": {
        "id": "44zxo3boz_m3"
      },
      "execution_count": 28,
      "outputs": []
    },
    {
      "cell_type": "markdown",
      "source": [
        "And we can use `matplotlib` to create a simple scatter plot of rank vs. absolute frequency."
      ],
      "metadata": {
        "id": "xIp9oh9B1SUP"
      }
    },
    {
      "cell_type": "code",
      "source": [
        "x = plot_df.select(\"rank\").to_numpy()\n",
        "y = plot_df.select(\"AF\").to_numpy()\n",
        "\n",
        "plt.scatter(x, y)\n",
        "\n",
        "# Add labels and title\n",
        "plt.xlabel('Token rank')\n",
        "plt.ylabel('Token freqency')\n",
        "plt.title(\"Zipf's Law\")"
      ],
      "metadata": {
        "colab": {
          "base_uri": "https://localhost:8080/",
          "height": 490
        },
        "id": "BtBcjF2G0v7g",
        "outputId": "5cfc18e9-90cd-4c3e-a40e-759a18755596"
      },
      "execution_count": 30,
      "outputs": [
        {
          "output_type": "execute_result",
          "data": {
            "text/plain": [
              "Text(0.5, 1.0, \"Zipf's Law\")"
            ]
          },
          "metadata": {},
          "execution_count": 30
        },
        {
          "output_type": "display_data",
          "data": {
            "text/plain": [
              "<Figure size 640x480 with 1 Axes>"
            ],
            "image/png": "[encoded data removed]"
          },
          "metadata": {}
        }
      ]
    },
    {
      "cell_type": "markdown",
      "source": [
        "#### Question 🤔\n",
        "\n",
        "What does this mean for language processing and the inpretation of results?"
      ],
      "metadata": {
        "id": "4gptHjgr1ebh"
      }
    },
    {
      "cell_type": "markdown",
      "source": [
        "## Dispersions\n",
        "\n",
        "One fundamental question we might have in looking at a frequency of words (or tokens) is what is driving a frequency of a given token.\n",
        "\n",
        "For example, let's say we find that *racoon* is particulary frequent in our data. Does that mean that we have a particularly racoon-y set of texts? Or is that say 1 or 2 texts that are just all about racoons?\n",
        "\n",
        "For this reason, we might want to know how dispersed tokens are? One simply way to report this is to see what percentage of our texts that our token appears in.\n",
        "\n",
        "The limiation to this approach is that our corpus may not contain texts of equal length. If some are shorter than others, the opportunity to a token to appear will not be equal.\n",
        "\n",
        "This there are a variety of dispersion measure available. Some of these can be calculated using the `dispersions_table` function. For this, we simply pass our original tokens object to the function.\n"
      ],
      "metadata": {
        "id": "4C-AqQmu1zXe"
      }
    },
    {
      "cell_type": "code",
      "source": [
        "dt = ds.dispersions_table(ds_tokens)"
      ],
      "metadata": {
        "id": "AjuItnfc12fI"
      },
      "execution_count": 32,
      "outputs": []
    },
    {
      "cell_type": "markdown",
      "source": [
        "Note that for some dispersion measures, the higher value means that the token is more dispersed."
      ],
      "metadata": {
        "id": "6qjwsI5a4EzZ"
      }
    },
    {
      "cell_type": "code",
      "source": [
        "dt.head()"
      ],
      "metadata": {
        "colab": {
          "base_uri": "https://localhost:8080/",
          "height": 255
        },
        "id": "pCLm035_4CX0",
        "outputId": "77ab622a-2ee7-4811-c818-c3ef5096bca9"
      },
      "execution_count": 33,
      "outputs": [
        {
          "output_type": "execute_result",
          "data": {
            "text/plain": [
              "shape: (5, 11)\n",
              "┌───────┬─────┬───────┬──────────────┬───┬──────────┬─────────────┬──────────┬──────────┐\n",
              "│ Token ┆ Tag ┆ AF    ┆ RF           ┆ … ┆ DC       ┆ Juillands_D ┆ DP       ┆ DP_norm  │\n",
              "│ ---   ┆ --- ┆ ---   ┆ ---          ┆   ┆ ---      ┆ ---         ┆ ---      ┆ ---      │\n",
              "│ str   ┆ str ┆ u64   ┆ f64          ┆   ┆ f64      ┆ f64         ┆ f64      ┆ f64      │\n",
              "╞═══════╪═════╪═══════╪══════════════╪═══╪══════════╪═════════════╪══════════╪══════════╡\n",
              "│ the   ┆ AT  ┆ 51032 ┆ 49909.339321 ┆ … ┆ 0.962878 ┆ 0.981743    ┆ 0.143309 ┆ 0.143608 │\n",
              "│ and   ┆ CC  ┆ 25301 ┆ 24744.399478 ┆ … ┆ 0.967017 ┆ 0.983406    ┆ 0.125719 ┆ 0.125981 │\n",
              "│ of    ┆ IO  ┆ 22495 ┆ 22000.129096 ┆ … ┆ 0.934966 ┆ 0.974587    ┆ 0.198081 ┆ 0.198495 │\n",
              "│ a     ┆ AT1 ┆ 22067 ┆ 21581.544733 ┆ … ┆ 0.971956 ┆ 0.985605    ┆ 0.110053 ┆ 0.110283 │\n",
              "│ to    ┆ TO  ┆ 16269 ┆ 15911.095811 ┆ … ┆ 0.963332 ┆ 0.983702    ┆ 0.124367 ┆ 0.124626 │\n",
              "└───────┴─────┴───────┴──────────────┴───┴──────────┴─────────────┴──────────┴──────────┘"
            ],
            "text/html": [
              "<div><style>\n",
              ".dataframe > thead > tr,\n",
              ".dataframe > tbody > tr {\n",
              "  text-align: right;\n",
              "  white-space: pre-wrap;\n",
              "}\n",
              "</style>\n",
              "<small>shape: (5, 11)</small><table border=\"1\" class=\"dataframe\"><thead><tr><th>Token</th><th>Tag</th><th>AF</th><th>RF</th><th>Carrolls_D2</th><th>Rosengrens_S</th><th>Lynes_D3</th><th>DC</th><th>Juillands_D</th><th>DP</th><th>DP_norm</th></tr><tr><td>str</td><td>str</td><td>u64</td><td>f64</td><td>f64</td><td>f64</td><td>f64</td><td>f64</td><td>f64</td><td>f64</td><td>f64</td></tr></thead><tbody><tr><td>&quot;the&quot;</td><td>&quot;AT&quot;</td><td>51032</td><td>49909.339321</td><td>0.988606</td><td>0.962805</td><td>0.967496</td><td>0.962878</td><td>0.981743</td><td>0.143309</td><td>0.143608</td></tr><tr><td>&quot;and&quot;</td><td>&quot;CC&quot;</td><td>25301</td><td>24744.399478</td><td>0.990263</td><td>0.966876</td><td>0.97321</td><td>0.967017</td><td>0.983406</td><td>0.125719</td><td>0.125981</td></tr><tr><td>&quot;of&quot;</td><td>&quot;IO&quot;</td><td>22495</td><td>22000.129096</td><td>0.9793</td><td>0.933612</td><td>0.937727</td><td>0.934966</td><td>0.974587</td><td>0.198081</td><td>0.198495</td></tr><tr><td>&quot;a&quot;</td><td>&quot;AT1&quot;</td><td>22067</td><td>21581.544733</td><td>0.992161</td><td>0.973151</td><td>0.979053</td><td>0.971956</td><td>0.985605</td><td>0.110053</td><td>0.110283</td></tr><tr><td>&quot;to&quot;</td><td>&quot;TO&quot;</td><td>16269</td><td>15911.095811</td><td>0.989805</td><td>0.964829</td><td>0.97305</td><td>0.963332</td><td>0.983702</td><td>0.124367</td><td>0.124626</td></tr></tbody></table></div>"
            ]
          },
          "metadata": {},
          "execution_count": 33
        }
      ]
    },
    {
      "cell_type": "markdown",
      "source": [
        "While for others, the **lower** the value, the **more** dispersed the token is."
      ],
      "metadata": {
        "id": "ri4WJkZZ4Pu8"
      }
    },
    {
      "cell_type": "code",
      "source": [
        "dt.tail()"
      ],
      "metadata": {
        "colab": {
          "base_uri": "https://localhost:8080/",
          "height": 255
        },
        "id": "TPWP10IQ4a1_",
        "outputId": "1bcff443-303d-4e08-9b99-bce1fa973e33"
      },
      "execution_count": 34,
      "outputs": [
        {
          "output_type": "execute_result",
          "data": {
            "text/plain": [
              "shape: (5, 11)\n",
              "┌───────────┬─────┬─────┬──────────┬───┬────────┬─────────────┬──────────┬──────────┐\n",
              "│ Token     ┆ Tag ┆ AF  ┆ RF       ┆ … ┆ DC     ┆ Juillands_D ┆ DP       ┆ DP_norm  │\n",
              "│ ---       ┆ --- ┆ --- ┆ ---      ┆   ┆ ---    ┆ ---         ┆ ---      ┆ ---      │\n",
              "│ str       ┆ str ┆ u64 ┆ f64      ┆   ┆ f64    ┆ f64         ┆ f64      ┆ f64      │\n",
              "╞═══════════╪═════╪═════╪══════════╪═══╪════════╪═════════════╪══════════╪══════════╡\n",
              "│ ramsey    ┆ NP1 ┆ 1   ┆ 0.978001 ┆ … ┆ 0.0025 ┆ -2.2204e-16 ┆ 0.997488 ┆ 0.999571 │\n",
              "│ polynesia ┆ NP1 ┆ 1   ┆ 0.978001 ┆ … ┆ 0.0025 ┆ -2.2204e-16 ┆ 0.997488 ┆ 0.999571 │\n",
              "│ pb2y      ┆ FO  ┆ 1   ┆ 0.978001 ┆ … ┆ 0.0025 ┆ -2.2204e-16 ┆ 0.997488 ┆ 0.999571 │\n",
              "│ pt        ┆ NN1 ┆ 1   ┆ 0.978001 ┆ … ┆ 0.0025 ┆ -2.2204e-16 ┆ 0.997488 ┆ 0.999571 │\n",
              "│ sox       ┆ NN1 ┆ 1   ┆ 0.978001 ┆ … ┆ 0.0025 ┆ -2.2204e-16 ┆ 0.997488 ┆ 0.999571 │\n",
              "└───────────┴─────┴─────┴──────────┴───┴────────┴─────────────┴──────────┴──────────┘"
            ],
            "text/html": [
              "<div><style>\n",
              ".dataframe > thead > tr,\n",
              ".dataframe > tbody > tr {\n",
              "  text-align: right;\n",
              "  white-space: pre-wrap;\n",
              "}\n",
              "</style>\n",
              "<small>shape: (5, 11)</small><table border=\"1\" class=\"dataframe\"><thead><tr><th>Token</th><th>Tag</th><th>AF</th><th>RF</th><th>Carrolls_D2</th><th>Rosengrens_S</th><th>Lynes_D3</th><th>DC</th><th>Juillands_D</th><th>DP</th><th>DP_norm</th></tr><tr><td>str</td><td>str</td><td>u64</td><td>f64</td><td>f64</td><td>f64</td><td>f64</td><td>f64</td><td>f64</td><td>f64</td><td>f64</td></tr></thead><tbody><tr><td>&quot;ramsey&quot;</td><td>&quot;NP1&quot;</td><td>1</td><td>0.978001</td><td>0.0</td><td>0.002512</td><td>-98.75</td><td>0.0025</td><td>-2.2204e-16</td><td>0.997488</td><td>0.999571</td></tr><tr><td>&quot;polynesia&quot;</td><td>&quot;NP1&quot;</td><td>1</td><td>0.978001</td><td>0.0</td><td>0.002512</td><td>-98.75</td><td>0.0025</td><td>-2.2204e-16</td><td>0.997488</td><td>0.999571</td></tr><tr><td>&quot;pb2y&quot;</td><td>&quot;FO&quot;</td><td>1</td><td>0.978001</td><td>0.0</td><td>0.002512</td><td>-98.75</td><td>0.0025</td><td>-2.2204e-16</td><td>0.997488</td><td>0.999571</td></tr><tr><td>&quot;pt&quot;</td><td>&quot;NN1&quot;</td><td>1</td><td>0.978001</td><td>0.0</td><td>0.002512</td><td>-98.75</td><td>0.0025</td><td>-2.2204e-16</td><td>0.997488</td><td>0.999571</td></tr><tr><td>&quot;sox&quot;</td><td>&quot;NN1&quot;</td><td>1</td><td>0.978001</td><td>0.0</td><td>0.002512</td><td>-98.75</td><td>0.0025</td><td>-2.2204e-16</td><td>0.997488</td><td>0.999571</td></tr></tbody></table></div>"
            ]
          },
          "metadata": {},
          "execution_count": 34
        }
      ]
    }
  ]
}