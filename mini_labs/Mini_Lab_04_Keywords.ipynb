{
  "nbformat": 4,
  "nbformat_minor": 0,
  "metadata": {
    "colab": {
      "provenance": [],
      "toc_visible": true,
      "authorship_tag": "ABX9TyNnPusb+WY0Ot2/o+F9p7cX",
      "include_colab_link": true
    },
    "kernelspec": {
      "name": "python3",
      "display_name": "Python 3"
    },
    "language_info": {
      "name": "python"
    }
  },
  "cells": [
    {
      "cell_type": "markdown",
      "metadata": {
        "id": "view-in-github",
        "colab_type": "text"
      },
      "source": [
        "<a href=\"https://colab.research.google.com/github/browndw/humanities_analytics/blob/main/mini_labs/Mini_Lab_04_Keywords.ipynb\" target=\"_parent\"><img src=\"https://colab.research.google.com/assets/colab-badge.svg\" alt=\"Open In Colab\"/></a>"
      ]
    },
    {
      "cell_type": "markdown",
      "source": [
        "# Mini Lab 4: Keywords\n",
        "\n",
        "We're going to use the same libraries and introductory steps in our processing pipeline.\n",
        "\n",
        "For details about the package and it's functions see: <https://docuscospacy.readthedocs.io/en/latest/docuscope.html>\n",
        "\n",
        "If you'd like to explore what this library does in an interactive online interface, you can go to: <https://docuscope-ca.eberly.cmu.edu/>\n",
        "\n",
        "We'll also be using [great_tables](https://posit-dev.github.io/great-tables/articles/intro.html) to design and output tablular data.\n",
        "\n",
        "## Install the\n",
        "\n",
        "Note that the capture decorator simply supresses the installation output."
      ],
      "metadata": {
        "id": "0equclcwmoKo"
      }
    },
    {
      "cell_type": "code",
      "execution_count": 2,
      "metadata": {
        "id": "lBlnORnZHsWL"
      },
      "outputs": [],
      "source": [
        "%%capture\n",
        "!pip install docuscospacy>=0.3\n",
        "!pip install great_tables"
      ]
    },
    {
      "cell_type": "markdown",
      "source": [
        "## Install the model\n",
        "\n",
        "Next we'll install the model."
      ],
      "metadata": {
        "id": "0xN5yRLdod_3"
      }
    },
    {
      "cell_type": "code",
      "source": [
        "%%capture\n",
        "!pip install \"en_docusco_spacy @ https://huggingface.co/browndw/en_docusco_spacy/resolve/main/en_docusco_spacy-any-py3-none-any.whl\""
      ],
      "metadata": {
        "id": "m8z91JqxIDvg"
      },
      "execution_count": 3,
      "outputs": []
    },
    {
      "cell_type": "markdown",
      "source": [
        "## Load the libraries\n",
        "\n",
        "We'll need these for our proceessing pipeline (docuscospacy, spacy) wrangle data frames (polars), generate and maipulate tables (great_tables) and create plots (matplotlib)."
      ],
      "metadata": {
        "id": "FdDp9NtWpDk2"
      }
    },
    {
      "cell_type": "code",
      "source": [
        "import docuscospacy as ds\n",
        "import polars as pl\n",
        "import spacy\n",
        "from great_tables import GT, md, html\n",
        "from matplotlib import pyplot as plt"
      ],
      "metadata": {
        "id": "MgESsnQYIPbb"
      },
      "execution_count": 4,
      "outputs": []
    },
    {
      "cell_type": "markdown",
      "source": [
        "## Import data\n",
        "\n",
        "For this exercise, we'll import some toy data that was designed to replicate COCA on a small scale."
      ],
      "metadata": {
        "id": "kCGqKsL1mlVQ"
      }
    },
    {
      "cell_type": "code",
      "source": [
        "df = pl.read_parquet(\"https://github.com/browndw/humanities_analytics/raw/refs/heads/main/data/data_tables/sample_corpus.parquet\")"
      ],
      "metadata": {
        "id": "9pqrNjqmJ6WJ"
      },
      "execution_count": 5,
      "outputs": []
    },
    {
      "cell_type": "markdown",
      "source": [
        "Rember that the table has a `doc_id` column and a `text` column. This is conventional formatting for processing textual data."
      ],
      "metadata": {
        "id": "QfV9bQwIp6AL"
      }
    },
    {
      "cell_type": "code",
      "source": [
        "df.head()"
      ],
      "metadata": {
        "colab": {
          "base_uri": "https://localhost:8080/",
          "height": 255
        },
        "id": "WBEdkzJVKANv",
        "outputId": "83ef86d0-b6e7-4284-c68e-b10c64362f6e"
      },
      "execution_count": 6,
      "outputs": [
        {
          "output_type": "execute_result",
          "data": {
            "text/plain": [
              "shape: (5, 2)\n",
              "┌─────────┬─────────────────────────────────┐\n",
              "│ doc_id  ┆ text                            │\n",
              "│ ---     ┆ ---                             │\n",
              "│ str     ┆ str                             │\n",
              "╞═════════╪═════════════════════════════════╡\n",
              "│ acad_01 ┆ Teachers and other school pers… │\n",
              "│ acad_02 ┆ Abstract Does the conflict in … │\n",
              "│ acad_03 ┆ January 17, 1993, will mark th… │\n",
              "│ acad_04 ┆ Thirty years have passed since… │\n",
              "│ acad_05 ┆ ABSTRACT -- A common property … │\n",
              "└─────────┴─────────────────────────────────┘"
            ],
            "text/html": [
              "<div><style>\n",
              ".dataframe > thead > tr,\n",
              ".dataframe > tbody > tr {\n",
              "  text-align: right;\n",
              "  white-space: pre-wrap;\n",
              "}\n",
              "</style>\n",
              "<small>shape: (5, 2)</small><table border=\"1\" class=\"dataframe\"><thead><tr><th>doc_id</th><th>text</th></tr><tr><td>str</td><td>str</td></tr></thead><tbody><tr><td>&quot;acad_01&quot;</td><td>&quot;Teachers and other school pers…</td></tr><tr><td>&quot;acad_02&quot;</td><td>&quot;Abstract Does the conflict in …</td></tr><tr><td>&quot;acad_03&quot;</td><td>&quot;January 17, 1993, will mark th…</td></tr><tr><td>&quot;acad_04&quot;</td><td>&quot;Thirty years have passed since…</td></tr><tr><td>&quot;acad_05&quot;</td><td>&quot;ABSTRACT -- A common property …</td></tr></tbody></table></div>"
            ]
          },
          "metadata": {},
          "execution_count": 6
        }
      ]
    },
    {
      "cell_type": "markdown",
      "source": [
        "For the purposes of this mini lab, it is also useful to note what the categories are that have been encoded into the `doc_id`. To retrive that information, we can extract the initial character string and return the unique values. This information will be useful later."
      ],
      "metadata": {
        "id": "gtt2XGKQyv3T"
      }
    },
    {
      "cell_type": "code",
      "source": [
        "df.get_column(\"doc_id\").str.extract(r\"^([a-z]+)\", 1).unique().sort().to_list()"
      ],
      "metadata": {
        "colab": {
          "base_uri": "https://localhost:8080/"
        },
        "id": "YyUQaq5UzDlr",
        "outputId": "7d3c5f85-0517-483c-df11-9edf421f4c0f"
      },
      "execution_count": 11,
      "outputs": [
        {
          "output_type": "execute_result",
          "data": {
            "text/plain": [
              "['acad', 'blog', 'fic', 'mag', 'news', 'spok', 'tvm', 'web']"
            ]
          },
          "metadata": {},
          "execution_count": 11
        }
      ]
    },
    {
      "cell_type": "markdown",
      "source": [
        "## Load the model\n",
        "\n",
        "As with any processing task of this kind, we will first need to load a model instance."
      ],
      "metadata": {
        "id": "IIU6DyxgrUXX"
      }
    },
    {
      "cell_type": "code",
      "source": [
        "nlp = spacy.load(\"en_docusco_spacy\")"
      ],
      "metadata": {
        "id": "4W0r_yGXKL-Q"
      },
      "execution_count": 12,
      "outputs": []
    },
    {
      "cell_type": "markdown",
      "source": [
        "## Process the corpus\n",
        "\n",
        "Now, we pass our data frame `df` to the nlp model that we just loaded using the `docuscope_parse` function. This is the most computationally intensive part of the process (and it takes the longest). For this sample corpus, processing should take a couple of minutes.\n",
        "\n",
        "If you're working with a medium to large corpus, you'd typically want to down-sample the full corpus and check to make everything is working before processing the full data set.\n",
        "\n",
        "Down-sample our `df` would be easy using the `sample` function in [`polars`](https://docs.pola.rs/api/python/stable/reference/dataframe/api/polars.DataFrame.sample.html)."
      ],
      "metadata": {
        "id": "2gpj2eSlriVy"
      }
    },
    {
      "cell_type": "code",
      "source": [
        "ds_tokens = ds.docuscope_parse(df, nlp_model=nlp, n_process=4)"
      ],
      "metadata": {
        "id": "OuIJku9bKCtw"
      },
      "execution_count": 13,
      "outputs": []
    },
    {
      "cell_type": "markdown",
      "source": [
        "### Peek at the tokens\n",
        "\n",
        "Now we can check what we've generated."
      ],
      "metadata": {
        "id": "k98_NhvMsdJU"
      }
    },
    {
      "cell_type": "code",
      "source": [
        "ds_tokens.head()"
      ],
      "metadata": {
        "colab": {
          "base_uri": "https://localhost:8080/",
          "height": 255
        },
        "id": "IldRLdYYslJO",
        "outputId": "925cd0bf-b4b3-453e-d62a-26d67867f1b0"
      },
      "execution_count": null,
      "outputs": [
        {
          "output_type": "execute_result",
          "data": {
            "text/plain": [
              "shape: (5, 6)\n",
              "┌─────────┬────────────┬─────────┬───────────────────┬────────┬───────┐\n",
              "│ doc_id  ┆ token      ┆ pos_tag ┆ ds_tag            ┆ pos_id ┆ ds_id │\n",
              "│ ---     ┆ ---        ┆ ---     ┆ ---               ┆ ---    ┆ ---   │\n",
              "│ str     ┆ str        ┆ str     ┆ str               ┆ u32    ┆ u32   │\n",
              "╞═════════╪════════════╪═════════╪═══════════════════╪════════╪═══════╡\n",
              "│ acad_01 ┆ Teachers   ┆ NN2     ┆ Character         ┆ 1      ┆ 1     │\n",
              "│ acad_01 ┆ and        ┆ CC      ┆ Untagged          ┆ 2      ┆ 2     │\n",
              "│ acad_01 ┆ other      ┆ JJ      ┆ InformationTopics ┆ 3      ┆ 3     │\n",
              "│ acad_01 ┆ school     ┆ NN1     ┆ InformationTopics ┆ 4      ┆ 3     │\n",
              "│ acad_01 ┆ personnel  ┆ NN2     ┆ Character         ┆ 5      ┆ 4     │\n",
              "└─────────┴────────────┴─────────┴───────────────────┴────────┴───────┘"
            ],
            "text/html": [
              "<div><style>\n",
              ".dataframe > thead > tr,\n",
              ".dataframe > tbody > tr {\n",
              "  text-align: right;\n",
              "  white-space: pre-wrap;\n",
              "}\n",
              "</style>\n",
              "<small>shape: (5, 6)</small><table border=\"1\" class=\"dataframe\"><thead><tr><th>doc_id</th><th>token</th><th>pos_tag</th><th>ds_tag</th><th>pos_id</th><th>ds_id</th></tr><tr><td>str</td><td>str</td><td>str</td><td>str</td><td>u32</td><td>u32</td></tr></thead><tbody><tr><td>&quot;acad_01&quot;</td><td>&quot;Teachers &quot;</td><td>&quot;NN2&quot;</td><td>&quot;Character&quot;</td><td>1</td><td>1</td></tr><tr><td>&quot;acad_01&quot;</td><td>&quot;and &quot;</td><td>&quot;CC&quot;</td><td>&quot;Untagged&quot;</td><td>2</td><td>2</td></tr><tr><td>&quot;acad_01&quot;</td><td>&quot;other &quot;</td><td>&quot;JJ&quot;</td><td>&quot;InformationTopics&quot;</td><td>3</td><td>3</td></tr><tr><td>&quot;acad_01&quot;</td><td>&quot;school &quot;</td><td>&quot;NN1&quot;</td><td>&quot;InformationTopics&quot;</td><td>4</td><td>3</td></tr><tr><td>&quot;acad_01&quot;</td><td>&quot;personnel &quot;</td><td>&quot;NN2&quot;</td><td>&quot;Character&quot;</td><td>5</td><td>4</td></tr></tbody></table></div>"
            ]
          },
          "metadata": {},
          "execution_count": 10
        }
      ]
    },
    {
      "cell_type": "markdown",
      "source": [
        "## What is **keyness**?\n",
        "\n",
        "Keyness is a generic term for various tests that compare observed vs. expected frequencies.\n",
        "\n",
        "The most commonly used (though not the only option) is called log-likelihood in corpus linguistics, but you will see it else where called a **G-test** goodness-of-fit.\n",
        "\n",
        "The calculation is based on a 2 x 2 contingency table. It is similar to a chi-square test, but performs better when corpora are unequally sized.\n",
        "\n",
        "Expected frequencies are based on the relative size of each corpus (in total number of words N~i~) and the total number of observed frequencies:\n",
        "\n",
        "$$\n",
        "E_i = \\sum_i O_i \\times \\frac{N_i}{\\sum_i N_i}\n",
        "$$\n",
        "And log-likelihood is calculated according the formula:\n",
        "\n",
        "$$\n",
        "LL = 2 \\times \\sum_i O_i \\ln \\frac{O_i}{E_i}\n",
        "$$\n",
        "A good explanation of its implementation in linguistics can be found here: <http://ucrel.lancs.ac.uk/llwizard.html>.\n",
        "\n",
        "You don't need to worry about the math, but you should understand what is happening conceptually and what the results show.\n",
        "\n",
        "> Keyness is measure the frequency we observe in a target corpus vs. what we would expect if our target corpus and our reference corpus were part of the same distribution. In other words, take both our corpora and pool them together. What is the frequency we would expect to see.\n",
        "\n",
        "Importantly, keyess measures **how much evidence we have for an effect**. It doesn't make much sense, for example, to claim for example that a token is \"more key\" than another."
      ],
      "metadata": {
        "id": "9vpRxKpz1awg"
      }
    },
    {
      "cell_type": "markdown",
      "source": [
        "## Choosing a target and reference corpus\n",
        "\n",
        "The first step in carrying out a keyness calculation is to decide what you're comparing to what. This choice has clear implications for what you can claim based on your results. What would it show, for example, to compare television and movie scripts to blogs? What's the research question? What do you hope to learn?\n",
        "\n",
        "Let's start by comparing the academic texts to the other text types. To do this will use the `filter` function. Note that the tilde (`~`) is a negator (so it doesn't contain the string)."
      ],
      "metadata": {
        "id": "ZB9bk0OV3ss-"
      }
    },
    {
      "cell_type": "code",
      "source": [
        "target = ds_tokens.filter(pl.col(\"doc_id\").str.contains(\"acad\"))\n",
        "reference = ds_tokens.filter(~pl.col(\"doc_id\").str.contains(\"acad\"))"
      ],
      "metadata": {
        "id": "D58BHcVh5hxO"
      },
      "execution_count": 17,
      "outputs": []
    },
    {
      "cell_type": "markdown",
      "source": [
        "And check the results."
      ],
      "metadata": {
        "id": "puZutQbd6bRX"
      }
    },
    {
      "cell_type": "code",
      "source": [
        "target.head()"
      ],
      "metadata": {
        "colab": {
          "base_uri": "https://localhost:8080/",
          "height": 255
        },
        "id": "_TE_NkP_58d8",
        "outputId": "cb2a7f6e-e421-4476-d4cf-8fc6e1946cda"
      },
      "execution_count": 20,
      "outputs": [
        {
          "output_type": "execute_result",
          "data": {
            "text/plain": [
              "shape: (5, 6)\n",
              "┌─────────┬────────────┬─────────┬───────────────────┬────────┬───────┐\n",
              "│ doc_id  ┆ token      ┆ pos_tag ┆ ds_tag            ┆ pos_id ┆ ds_id │\n",
              "│ ---     ┆ ---        ┆ ---     ┆ ---               ┆ ---    ┆ ---   │\n",
              "│ str     ┆ str        ┆ str     ┆ str               ┆ u32    ┆ u32   │\n",
              "╞═════════╪════════════╪═════════╪═══════════════════╪════════╪═══════╡\n",
              "│ acad_01 ┆ Teachers   ┆ NN2     ┆ Character         ┆ 1      ┆ 1     │\n",
              "│ acad_01 ┆ and        ┆ CC      ┆ Untagged          ┆ 2      ┆ 2     │\n",
              "│ acad_01 ┆ other      ┆ JJ      ┆ InformationTopics ┆ 3      ┆ 3     │\n",
              "│ acad_01 ┆ school     ┆ NN1     ┆ InformationTopics ┆ 4      ┆ 3     │\n",
              "│ acad_01 ┆ personnel  ┆ NN2     ┆ Character         ┆ 5      ┆ 4     │\n",
              "└─────────┴────────────┴─────────┴───────────────────┴────────┴───────┘"
            ],
            "text/html": [
              "<div><style>\n",
              ".dataframe > thead > tr,\n",
              ".dataframe > tbody > tr {\n",
              "  text-align: right;\n",
              "  white-space: pre-wrap;\n",
              "}\n",
              "</style>\n",
              "<small>shape: (5, 6)</small><table border=\"1\" class=\"dataframe\"><thead><tr><th>doc_id</th><th>token</th><th>pos_tag</th><th>ds_tag</th><th>pos_id</th><th>ds_id</th></tr><tr><td>str</td><td>str</td><td>str</td><td>str</td><td>u32</td><td>u32</td></tr></thead><tbody><tr><td>&quot;acad_01&quot;</td><td>&quot;Teachers &quot;</td><td>&quot;NN2&quot;</td><td>&quot;Character&quot;</td><td>1</td><td>1</td></tr><tr><td>&quot;acad_01&quot;</td><td>&quot;and &quot;</td><td>&quot;CC&quot;</td><td>&quot;Untagged&quot;</td><td>2</td><td>2</td></tr><tr><td>&quot;acad_01&quot;</td><td>&quot;other &quot;</td><td>&quot;JJ&quot;</td><td>&quot;InformationTopics&quot;</td><td>3</td><td>3</td></tr><tr><td>&quot;acad_01&quot;</td><td>&quot;school &quot;</td><td>&quot;NN1&quot;</td><td>&quot;InformationTopics&quot;</td><td>4</td><td>3</td></tr><tr><td>&quot;acad_01&quot;</td><td>&quot;personnel &quot;</td><td>&quot;NN2&quot;</td><td>&quot;Character&quot;</td><td>5</td><td>4</td></tr></tbody></table></div>"
            ]
          },
          "metadata": {},
          "execution_count": 20
        }
      ]
    },
    {
      "cell_type": "code",
      "source": [
        "reference.head()"
      ],
      "metadata": {
        "colab": {
          "base_uri": "https://localhost:8080/",
          "height": 255
        },
        "id": "GUJYvSPG6d_A",
        "outputId": "a684c341-2ecb-4227-aa20-d76d27d5ca43"
      },
      "execution_count": 21,
      "outputs": [
        {
          "output_type": "execute_result",
          "data": {
            "text/plain": [
              "shape: (5, 6)\n",
              "┌─────────┬────────────┬─────────┬───────────┬────────┬────────┐\n",
              "│ doc_id  ┆ token      ┆ pos_tag ┆ ds_tag    ┆ pos_id ┆ ds_id  │\n",
              "│ ---     ┆ ---        ┆ ---     ┆ ---       ┆ ---    ┆ ---    │\n",
              "│ str     ┆ str        ┆ str     ┆ str       ┆ u32    ┆ u32    │\n",
              "╞═════════╪════════════╪═════════╪═══════════╪════════╪════════╡\n",
              "│ blog_01 ┆ unpleasant ┆ JJ      ┆ Negative  ┆ 144947 ┆ 122978 │\n",
              "│ blog_01 ┆ ,          ┆ Y       ┆ Untagged  ┆ 144948 ┆ 122979 │\n",
              "│ blog_01 ┆ and        ┆ CC      ┆ Narrative ┆ 144949 ┆ 122980 │\n",
              "│ blog_01 ┆ then       ┆ RT      ┆ Narrative ┆ 144950 ┆ 122980 │\n",
              "│ blog_01 ┆ you        ┆ PPY     ┆ Narrative ┆ 144951 ┆ 122980 │\n",
              "└─────────┴────────────┴─────────┴───────────┴────────┴────────┘"
            ],
            "text/html": [
              "<div><style>\n",
              ".dataframe > thead > tr,\n",
              ".dataframe > tbody > tr {\n",
              "  text-align: right;\n",
              "  white-space: pre-wrap;\n",
              "}\n",
              "</style>\n",
              "<small>shape: (5, 6)</small><table border=\"1\" class=\"dataframe\"><thead><tr><th>doc_id</th><th>token</th><th>pos_tag</th><th>ds_tag</th><th>pos_id</th><th>ds_id</th></tr><tr><td>str</td><td>str</td><td>str</td><td>str</td><td>u32</td><td>u32</td></tr></thead><tbody><tr><td>&quot;blog_01&quot;</td><td>&quot;unpleasant&quot;</td><td>&quot;JJ&quot;</td><td>&quot;Negative&quot;</td><td>144947</td><td>122978</td></tr><tr><td>&quot;blog_01&quot;</td><td>&quot;, &quot;</td><td>&quot;Y&quot;</td><td>&quot;Untagged&quot;</td><td>144948</td><td>122979</td></tr><tr><td>&quot;blog_01&quot;</td><td>&quot;and &quot;</td><td>&quot;CC&quot;</td><td>&quot;Narrative&quot;</td><td>144949</td><td>122980</td></tr><tr><td>&quot;blog_01&quot;</td><td>&quot;then &quot;</td><td>&quot;RT&quot;</td><td>&quot;Narrative&quot;</td><td>144950</td><td>122980</td></tr><tr><td>&quot;blog_01&quot;</td><td>&quot;you &quot;</td><td>&quot;PPY&quot;</td><td>&quot;Narrative&quot;</td><td>144951</td><td>122980</td></tr></tbody></table></div>"
            ]
          },
          "metadata": {},
          "execution_count": 21
        }
      ]
    },
    {
      "cell_type": "markdown",
      "source": [
        "## Creating frequency tables\n",
        "\n",
        "The docuscospacy package has a function called `keyness_table` that will calculate all of the statistical information that we'll need.\n",
        "\n",
        "See here: <https://docuscospacy.readthedocs.io/en/latest/corpus_analysis.html#Keyword-tables>\n",
        "\n",
        "The function requires us to first create frequency tables for our target and our reference."
      ],
      "metadata": {
        "id": "26pKPQAdsNFH"
      }
    },
    {
      "cell_type": "code",
      "source": [
        "wc_target = ds.frequency_table(target)\n",
        "wc_ref = ds.frequency_table(reference)"
      ],
      "metadata": {
        "id": "kR8QXqirKs2u"
      },
      "execution_count": 22,
      "outputs": []
    },
    {
      "cell_type": "markdown",
      "source": [
        "## Creating a keyness table\n",
        "\n",
        "Now we can generate our keyness table."
      ],
      "metadata": {
        "id": "VC2qtlwOuDZw"
      }
    },
    {
      "cell_type": "code",
      "source": [
        "kw = ds.keyness_table(wc_target, wc_ref)"
      ],
      "metadata": {
        "id": "SdhZSTOMKyhx"
      },
      "execution_count": 24,
      "outputs": []
    },
    {
      "cell_type": "markdown",
      "source": [
        "Check the table."
      ],
      "metadata": {
        "id": "bPtm-1yx7j1V"
      }
    },
    {
      "cell_type": "code",
      "source": [
        "kw.head()"
      ],
      "metadata": {
        "colab": {
          "base_uri": "https://localhost:8080/",
          "height": 255
        },
        "id": "Be9wpZMR7iyZ",
        "outputId": "6ca0bd00-0fd2-42a6-9975-9c2ad6358218"
      },
      "execution_count": 25,
      "outputs": [
        {
          "output_type": "execute_result",
          "data": {
            "text/plain": [
              "shape: (5, 11)\n",
              "┌─────────┬─────┬─────────────┬──────────┬───┬──────┬────────┬───────┬───────────┐\n",
              "│ Token   ┆ Tag ┆ LL          ┆ LR       ┆ … ┆ AF   ┆ AF_Ref ┆ Range ┆ Range_Ref │\n",
              "│ ---     ┆ --- ┆ ---         ┆ ---      ┆   ┆ ---  ┆ ---    ┆ ---   ┆ ---       │\n",
              "│ str     ┆ str ┆ f64         ┆ f64      ┆   ┆ u32  ┆ u32    ┆ f64   ┆ f64       │\n",
              "╞═════════╪═════╪═════════════╪══════════╪═══╪══════╪════════╪═══════╪═══════════╡\n",
              "│ of      ┆ IO  ┆ 1554.092129 ┆ 0.985829 ┆ … ┆ 4866 ┆ 17626  ┆ 100.0 ┆ 99.714286 │\n",
              "│ the     ┆ AT  ┆ 697.526424  ┆ 0.47492  ┆ … ┆ 8282 ┆ 42748  ┆ 100.0 ┆ 99.714286 │\n",
              "│ social  ┆ JJ  ┆ 459.036955  ┆ 3.501689 ┆ … ┆ 210  ┆ 133    ┆ 52.0  ┆ 20.0      │\n",
              "│ studies ┆ NN2 ┆ 394.0216    ┆ 3.998845 ┆ … ┆ 156  ┆ 70     ┆ 44.0  ┆ 6.857143  │\n",
              "│ in      ┆ II  ┆ 343.013394  ┆ 0.591128 ┆ … ┆ 2707 ┆ 12891  ┆ 100.0 ┆ 99.714286 │\n",
              "└─────────┴─────┴─────────────┴──────────┴───┴──────┴────────┴───────┴───────────┘"
            ],
            "text/html": [
              "<div><style>\n",
              ".dataframe > thead > tr,\n",
              ".dataframe > tbody > tr {\n",
              "  text-align: right;\n",
              "  white-space: pre-wrap;\n",
              "}\n",
              "</style>\n",
              "<small>shape: (5, 11)</small><table border=\"1\" class=\"dataframe\"><thead><tr><th>Token</th><th>Tag</th><th>LL</th><th>LR</th><th>PV</th><th>RF</th><th>RF_Ref</th><th>AF</th><th>AF_Ref</th><th>Range</th><th>Range_Ref</th></tr><tr><td>str</td><td>str</td><td>f64</td><td>f64</td><td>f64</td><td>f64</td><td>f64</td><td>u32</td><td>u32</td><td>f64</td><td>f64</td></tr></thead><tbody><tr><td>&quot;of&quot;</td><td>&quot;IO&quot;</td><td>1554.092129</td><td>0.985829</td><td>0.0</td><td>38898.437188</td><td>19641.207534</td><td>4866</td><td>17626</td><td>100.0</td><td>99.714286</td></tr><tr><td>&quot;the&quot;</td><td>&quot;AT&quot;</td><td>697.526424</td><td>0.47492</td><td>1.0318e-153</td><td>66205.68368</td><td>47635.444212</td><td>8282</td><td>42748</td><td>100.0</td><td>99.714286</td></tr><tr><td>&quot;social&quot;</td><td>&quot;JJ&quot;</td><td>459.036955</td><td>3.501689</td><td>7.7887e-102</td><td>1678.72417</td><td>148.206093</td><td>210</td><td>133</td><td>52.0</td><td>20.0</td></tr><tr><td>&quot;studies&quot;</td><td>&quot;NN2&quot;</td><td>394.0216</td><td>3.998845</td><td>1.1025e-87</td><td>1247.05224</td><td>78.003207</td><td>156</td><td>70</td><td>44.0</td><td>6.857143</td></tr><tr><td>&quot;in&quot;</td><td>&quot;II&quot;</td><td>343.013394</td><td>0.591128</td><td>1.4080e-76</td><td>21639.553939</td><td>14364.847743</td><td>2707</td><td>12891</td><td>100.0</td><td>99.714286</td></tr></tbody></table></div>"
            ]
          },
          "metadata": {},
          "execution_count": 25
        }
      ]
    },
    {
      "cell_type": "markdown",
      "source": [
        "The columns are as follows:\n",
        "\n",
        "1. **Token**: the token\n",
        "1. **Tag**: the tag\n",
        "1. **LL**: the keyness value or [**log-likelihood**](http://ucrel.lancs.ac.uk/llwizard.html), also known as a G2 or goodness-of-fit test.\n",
        "1. **LR**: the effect size, which here is the [**log ratio**](http://cass.lancs.ac.uk/log-ratio-an-informal-introduction/)\n",
        "1. **PV**: the *p*-value associated with the log-likelihood\n",
        "1. **RF_Tar**: the relative frequency in the target corpus (per mil)\n",
        "1. **RF_Ref**: the relative frequency in the reference corpus (per mil)\n",
        "1. **AF_Tar**: the absolute frequency in the target corpus\n",
        "1. **AF_Ref**: the absolute frequency in the reference corpus\n",
        "1. **Range_Tar**: the percentage of texts in which the token apprears in the target corpus\n",
        "1. **Range_Ref**: the percentage of texts in which the token apprears in the reference corpus"
      ],
      "metadata": {
        "id": "BI0o8m4E8Tr0"
      }
    },
    {
      "cell_type": "markdown",
      "source": [
        "### Comparing tags instead of tokens\n",
        "\n",
        "It can be useful sometimes to compare tags (parts-of-speech or DocuScope) instead of individual tokens. For that, the process is the same. But rather than first creating counts of token frequencies, we'll create tables of tag frequencies."
      ],
      "metadata": {
        "id": "Q0isuQP1vH2M"
      }
    },
    {
      "cell_type": "code",
      "source": [
        "tag_tar = ds.tags_table(target, count_by='pos') # by part-of-speech\n",
        "tag_ref = ds.tags_table(reference, count_by='pos') # by part-of-speech\n",
        "ds_ref = ds.tags_table(reference, count_by='ds') # by DocuScope\n",
        "ds_tar = ds.tags_table(target,  count_by='ds') # by DocuScope"
      ],
      "metadata": {
        "id": "9SeNc0atO0iz"
      },
      "execution_count": 27,
      "outputs": []
    },
    {
      "cell_type": "markdown",
      "source": [
        "And generate a keyness table by setting `tags_only=True`."
      ],
      "metadata": {
        "id": "UhLsCoS6v9vy"
      }
    },
    {
      "cell_type": "markdown",
      "source": [],
      "metadata": {
        "id": "ozZazQmnBJJ4"
      }
    },
    {
      "cell_type": "code",
      "source": [
        "kt_pos = ds.keyness_table(tag_tar, tag_ref, tags_only=True)\n",
        "kt_ds = ds.keyness_table(ds_tar, ds_ref, tags_only=True)"
      ],
      "metadata": {
        "id": "cyApIGd4wAGJ"
      },
      "execution_count": 33,
      "outputs": []
    },
    {
      "cell_type": "markdown",
      "source": [
        "Check the result of the part-of-speech table."
      ],
      "metadata": {
        "id": "ow9wSkM4A5z9"
      }
    },
    {
      "cell_type": "code",
      "source": [
        "kt_pos.head()"
      ],
      "metadata": {
        "colab": {
          "base_uri": "https://localhost:8080/",
          "height": 255
        },
        "id": "WqbqF6BBAlfj",
        "outputId": "b81e0044-67e3-4dd8-a42e-614a3007721b"
      },
      "execution_count": 34,
      "outputs": [
        {
          "output_type": "execute_result",
          "data": {
            "text/plain": [
              "shape: (5, 10)\n",
              "┌─────┬─────────────┬──────────┬─────────────┬───┬───────┬────────┬───────┬───────────┐\n",
              "│ Tag ┆ LL          ┆ LR       ┆ PV          ┆ … ┆ AF    ┆ AF_Ref ┆ Range ┆ Range_Ref │\n",
              "│ --- ┆ ---         ┆ ---      ┆ ---         ┆   ┆ ---   ┆ ---    ┆ ---   ┆ ---       │\n",
              "│ str ┆ f64         ┆ f64      ┆ f64         ┆   ┆ u32   ┆ u32    ┆ f64   ┆ f64       │\n",
              "╞═════╪═════════════╪══════════╪═════════════╪═══╪═══════╪════════╪═══════╪═══════════╡\n",
              "│ JJ  ┆ 2312.748987 ┆ 0.74229  ┆ 0.0         ┆ … ┆ 12022 ┆ 51555  ┆ 100.0 ┆ 100.0     │\n",
              "│ NN2 ┆ 2028.82342  ┆ 0.789272 ┆ 0.0         ┆ … ┆ 9438  ┆ 39177  ┆ 100.0 ┆ 100.0     │\n",
              "│ IO  ┆ 1554.779099 ┆ 0.985961 ┆ 0.0         ┆ … ┆ 4867  ┆ 17628  ┆ 100.0 ┆ 99.714286 │\n",
              "│ NN1 ┆ 1459.096639 ┆ 0.408936 ┆ 0.0         ┆ … ┆ 22979 ┆ 124158 ┆ 100.0 ┆ 100.0     │\n",
              "│ AT  ┆ 662.178275  ┆ 0.457909 ┆ 5.0190e-146 ┆ … ┆ 8421  ┆ 43981  ┆ 100.0 ┆ 99.714286 │\n",
              "└─────┴─────────────┴──────────┴─────────────┴───┴───────┴────────┴───────┴───────────┘"
            ],
            "text/html": [
              "<div><style>\n",
              ".dataframe > thead > tr,\n",
              ".dataframe > tbody > tr {\n",
              "  text-align: right;\n",
              "  white-space: pre-wrap;\n",
              "}\n",
              "</style>\n",
              "<small>shape: (5, 10)</small><table border=\"1\" class=\"dataframe\"><thead><tr><th>Tag</th><th>LL</th><th>LR</th><th>PV</th><th>RF</th><th>RF_Ref</th><th>AF</th><th>AF_Ref</th><th>Range</th><th>Range_Ref</th></tr><tr><td>str</td><td>f64</td><td>f64</td><td>f64</td><td>f64</td><td>f64</td><td>u32</td><td>u32</td><td>f64</td><td>f64</td></tr></thead><tbody><tr><td>&quot;JJ&quot;</td><td>2312.748987</td><td>0.74229</td><td>0.0</td><td>9.610296</td><td>5.744936</td><td>12022</td><td>51555</td><td>100.0</td><td>100.0</td></tr><tr><td>&quot;NN2&quot;</td><td>2028.82342</td><td>0.789272</td><td>0.0</td><td>7.544666</td><td>4.365617</td><td>9438</td><td>39177</td><td>100.0</td><td>100.0</td></tr><tr><td>&quot;IO&quot;</td><td>1554.779099</td><td>0.985961</td><td>0.0</td><td>3.890643</td><td>1.964344</td><td>4867</td><td>17628</td><td>100.0</td><td>99.714286</td></tr><tr><td>&quot;NN1&quot;</td><td>1459.096639</td><td>0.408936</td><td>0.0</td><td>18.369239</td><td>13.835317</td><td>22979</td><td>124158</td><td>100.0</td><td>100.0</td></tr><tr><td>&quot;AT&quot;</td><td>662.178275</td><td>0.457909</td><td>5.0190e-146</td><td>6.731684</td><td>4.900941</td><td>8421</td><td>43981</td><td>100.0</td><td>99.714286</td></tr></tbody></table></div>"
            ]
          },
          "metadata": {},
          "execution_count": 34
        }
      ]
    },
    {
      "cell_type": "markdown",
      "source": [
        "And the DocuScope table."
      ],
      "metadata": {
        "id": "CBsdfkvqA_qn"
      }
    },
    {
      "cell_type": "code",
      "source": [
        "kt_ds.head()"
      ],
      "metadata": {
        "colab": {
          "base_uri": "https://localhost:8080/",
          "height": 255
        },
        "id": "tdRIy1ZsBCwt",
        "outputId": "6c07fc28-af9c-4b19-9971-0dd68404bce3"
      },
      "execution_count": 35,
      "outputs": [
        {
          "output_type": "execute_result",
          "data": {
            "text/plain": [
              "shape: (5, 10)\n",
              "┌──────────────────┬─────────────┬──────────┬─────────────┬───┬───────┬────────┬───────┬───────────┐\n",
              "│ Tag              ┆ LL          ┆ LR       ┆ PV          ┆ … ┆ AF    ┆ AF_Ref ┆ Range ┆ Range_Ref │\n",
              "│ ---              ┆ ---         ┆ ---      ┆ ---         ┆   ┆ ---   ┆ ---    ┆ ---   ┆ ---       │\n",
              "│ str              ┆ f64         ┆ f64      ┆ f64         ┆   ┆ u32   ┆ u32    ┆ f64   ┆ f64       │\n",
              "╞══════════════════╪═════════════╪══════════╪═════════════╪═══╪═══════╪════════╪═══════╪═══════════╡\n",
              "│ AcademicTerms    ┆ 3754.836644 ┆ 1.200984 ┆ 0.0         ┆ … ┆ 8435  ┆ 24796  ┆ 100.0 ┆ 99.714286 │\n",
              "│ Untagged         ┆ 728.133631  ┆ 0.230456 ┆ 2.2805e-160 ┆ … ┆ 34774 ┆ 200313 ┆ 100.0 ┆ 100.0     │\n",
              "│ InformationTopic ┆ 605.072806  ┆ 0.656914 ┆ 1.3196e-133 ┆ … ┆ 3965  ┆ 16995  ┆ 100.0 ┆ 100.0     │\n",
              "│ s                ┆             ┆          ┆             ┆   ┆       ┆        ┆       ┆           │\n",
              "│ Citation         ┆ 521.574429  ┆ 1.357769 ┆ 1.9231e-115 ┆ … ┆ 953   ┆ 2513   ┆ 100.0 ┆ 96.0      │\n",
              "│ AcademicWritingM ┆ 502.414707  ┆ 2.034075 ┆ 2.8352e-111 ┆ … ┆ 483   ┆ 797    ┆ 96.0  ┆ 74.571429 │\n",
              "│ oves             ┆             ┆          ┆             ┆   ┆       ┆        ┆       ┆           │\n",
              "└──────────────────┴─────────────┴──────────┴─────────────┴───┴───────┴────────┴───────┴───────────┘"
            ],
            "text/html": [
              "<div><style>\n",
              ".dataframe > thead > tr,\n",
              ".dataframe > tbody > tr {\n",
              "  text-align: right;\n",
              "  white-space: pre-wrap;\n",
              "}\n",
              "</style>\n",
              "<small>shape: (5, 10)</small><table border=\"1\" class=\"dataframe\"><thead><tr><th>Tag</th><th>LL</th><th>LR</th><th>PV</th><th>RF</th><th>RF_Ref</th><th>AF</th><th>AF_Ref</th><th>Range</th><th>Range_Ref</th></tr><tr><td>str</td><td>f64</td><td>f64</td><td>f64</td><td>f64</td><td>f64</td><td>u32</td><td>u32</td><td>f64</td><td>f64</td></tr></thead><tbody><tr><td>&quot;AcademicTerms&quot;</td><td>3754.836644</td><td>1.200984</td><td>0.0</td><td>8.171945</td><td>3.55462</td><td>8435</td><td>24796</td><td>100.0</td><td>99.714286</td></tr><tr><td>&quot;Untagged&quot;</td><td>728.133631</td><td>0.230456</td><td>2.2805e-160</td><td>33.689534</td><td>28.715787</td><td>34774</td><td>200313</td><td>100.0</td><td>100.0</td></tr><tr><td>&quot;InformationTopics&quot;</td><td>605.072806</td><td>0.656914</td><td>1.3196e-133</td><td>3.841347</td><td>2.436311</td><td>3965</td><td>16995</td><td>100.0</td><td>100.0</td></tr><tr><td>&quot;Citation&quot;</td><td>521.574429</td><td>1.357769</td><td>1.9231e-115</td><td>0.92328</td><td>0.36025</td><td>953</td><td>2513</td><td>100.0</td><td>96.0</td></tr><tr><td>&quot;AcademicWritingMoves&quot;</td><td>502.414707</td><td>2.034075</td><td>2.8352e-111</td><td>0.467937</td><td>0.114254</td><td>483</td><td>797</td><td>96.0</td><td>74.571429</td></tr></tbody></table></div>"
            ]
          },
          "metadata": {},
          "execution_count": 35
        }
      ]
    },
    {
      "cell_type": "markdown",
      "source": [
        "## Effect size\n",
        "\n",
        "While the LL value produces one important piece of information (the amount of evidence we have for an effect), it neglects another (the magnitude of the effect). Whenever we report on significance it is **critical** to report **effect size**. Some common effect size measures include:\n",
        "\n",
        "* %DIFF - see Gabrielatos and Marchi [-@gabrielatos2011keyness]\n",
        "    + Costas has also provided an FAQ with more details <http://ucrel.lancs.ac.uk/ll/DIFF_FAQ.pdf>\n",
        "* Bayes Factor (BIC) - see Wilson [-@wilson2013embracing]\n",
        "    + You can interpret the approximate Bayes Factor as degrees of evidence against the null hypothesis as follows:\n",
        "        - 0-2: not worth more than a bare mention\n",
        "        - 2-6: positive evidence against H~0~\n",
        "        - 6-10: strong evidence against H~0~\n",
        "        - 10: very strong evidence against H~0~\n",
        "    + For negative scores, the scale is read as \"in favor of\" instead of \"against\".\n",
        "* Effect Size for Log Likelihood (ELL) - see Johnston *et al.* [-@johnston2006measures]\n",
        "    + ELL varies between 0 and 1 (inclusive). Johnston *et al.* say \"interpretation is straightforward as the proportion of the maximum departure between the observed and expected proportions\".\n",
        "* Relative Risk\n",
        "* Odds Ratio\n",
        "* Log Ratio - see Andrew Hardie's CASS blog for how to interpret this\n",
        "    + Note that if either word has zero frequency then a small adjustment is automatically applied (0.5 observed frequency which is then normalized) to avoid division by zero errors."
      ],
      "metadata": {
        "id": "dNhzFYKhwKBv"
      }
    },
    {
      "cell_type": "markdown",
      "source": [
        "### Log Ratio (LR)\n",
        "\n",
        "The `keyness_table` fuction returns [Hardie's Log Ratio](https://cass.lancs.ac.uk/log-ratio-an-informal-introduction/), which is easy and intuitive. It is simply the (base 2) logarithm or the relative frequencies. So a LR of 1 would indicate that the frequency in the target is 2-times greater than the reference, an LR of three it would be 4-times greater, and an LR of 3 8 times greater."
      ],
      "metadata": {
        "id": "J9tmPmjCEJfH"
      }
    },
    {
      "cell_type": "markdown",
      "source": [
        "## P-values\n",
        "\n",
        "It is also important to interpret and report *p*-values correctly. There is a nice [explanation here](https://www.scottbot.net/HIAL/index.html@p=24697.html).\n",
        "\n",
        "A p-value represents and threshold (conventionally 0.05, 0.01, or 0.001) at which we can claim a differnce is significant or reaches significance.\n",
        "\n",
        "The threshold we choose is largely dependent on the size of our corpora. With a corpus of many millions of words, at a *p*-value < 0.05, an enormous quatity of tokens would reach significance.\n",
        "\n",
        "Using a phrase like [\"marginally significant\"](https://scientistseessquirrel.wordpress.com/2015/11/16/is-nearly-significant-ridiculous/) can be a red flag in some quarters.\n",
        "\n",
        "> Note that the default threshold in the `keyness_table` function is `threshold=.01`. In other words, it returns values below that threshold."
      ],
      "metadata": {
        "id": "_cLxz8nvEVHm"
      }
    },
    {
      "cell_type": "markdown",
      "source": [
        "## Saving your results\n",
        "\n",
        "To save your results, you need to connect the Colab you're running to your Google Drive.\n",
        "\n",
        "```\n",
        "from google.colab import drive\n",
        "drive._mount('/content/drive')\n",
        "```"
      ],
      "metadata": {
        "id": "zR4o4rFkHsfN"
      }
    },
    {
      "cell_type": "markdown",
      "source": [
        "Tables and figures can then be saved directy to your drive. You will need to specify a path. If you're unsure of what the path should be, you can naviate your drive by clicking on the folder icon to the rught (under they key icon). YOu can then hover over the folder where you'd like to save your file, click on the three dots to the right, and copy the path.\n",
        "\n",
        "To, for example, save the `kt_pos` on my Drive, I would run:\n",
        "\n",
        "```\n",
        "kt_pos.write_csv(\"/content/drive/MyDrive/76-380-780 MiHA/Mini Labs/output/keyness_pos.csv\")\n",
        "```"
      ],
      "metadata": {
        "id": "lMKXJRpuJ3D3"
      }
    },
    {
      "cell_type": "markdown",
      "source": [
        "## Question 🤔\n",
        "\n",
        "Looking at the tables above, what do you see as some of the affordances and difficulties or limiations of working with key words?"
      ],
      "metadata": {
        "id": "4gptHjgr1ebh"
      }
    },
    {
      "cell_type": "markdown",
      "source": [
        "## On your own\n",
        "\n",
        "1. Using the keyness table we created `kw`, filter the table for modal verbs. The [tagset is here](https://ucrel.lancs.ac.uk/claws7tags.html).\n",
        "\n",
        "> Hint: you will need to use [`filter`](https://docs.pola.rs/api/python/stable/reference/dataframe/api/polars.DataFrame.filter.html) and specify the column using `pl.col(\"Tag\")`\n"
      ],
      "metadata": {
        "id": "4C-AqQmu1zXe"
      }
    },
    {
      "cell_type": "code",
      "source": [
        "# Your code here"
      ],
      "metadata": {
        "id": "KdUiF8flNxTf"
      },
      "execution_count": null,
      "outputs": []
    },
    {
      "cell_type": "markdown",
      "source": [
        "2. Now try to filter for **ALL** common nouns.\n",
        "\n",
        "> Hint: Noun tags start with \"NN\"."
      ],
      "metadata": {
        "id": "hWAB2n2PN16h"
      }
    },
    {
      "cell_type": "code",
      "source": [
        "# Your code here"
      ],
      "metadata": {
        "id": "pRqr63teOGpK"
      },
      "execution_count": null,
      "outputs": []
    },
    {
      "cell_type": "markdown",
      "source": [
        "3. [Sort](https://docs.pola.rs/api/python/stable/reference/dataframe/api/polars.DataFrame.sort.html#polars.DataFrame.sort) the table by Log Ratio (from largest to smallest)"
      ],
      "metadata": {
        "id": "rFYUpDgLOQ-q"
      }
    },
    {
      "cell_type": "code",
      "source": [
        "# Your code here"
      ],
      "metadata": {
        "id": "U8ME9GwRO5Or"
      },
      "execution_count": null,
      "outputs": []
    }
  ]
}