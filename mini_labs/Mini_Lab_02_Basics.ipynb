{
  "nbformat": 4,
  "nbformat_minor": 0,
  "metadata": {
    "colab": {
      "provenance": [],
      "toc_visible": true,
      "authorship_tag": "ABX9TyOXLkhyCNcPZyJ2T5at5aPf",
      "include_colab_link": true
    },
    "kernelspec": {
      "name": "python3",
      "display_name": "Python 3"
    },
    "language_info": {
      "name": "python"
    }
  },
  "cells": [
    {
      "cell_type": "markdown",
      "metadata": {
        "id": "view-in-github",
        "colab_type": "text"
      },
      "source": [
        "<a href=\"https://colab.research.google.com/github/browndw/humanities_analytics/blob/main/mini_labs/Mini_Lab_02_Basics.ipynb\" target=\"_parent\"><img src=\"https://colab.research.google.com/assets/colab-badge.svg\" alt=\"Open In Colab\"/></a>"
      ]
    },
    {
      "cell_type": "markdown",
      "source": [
        "# Mini Lab 1: The Basics"
      ],
      "metadata": {
        "id": "B7ztpfu9dC3b"
      }
    },
    {
      "cell_type": "markdown",
      "source": [
        "## A simple processing pipeline\n",
        "\n",
        "In order to carry out any sort of computational analysis, we need to convert text into numbers. Although this is now fairly easy to do with computers, it, nonetheless, constitutes a RADICAL reorganization of text.\n",
        "\n",
        "A processing pipeline typically looks something like this:\n",
        "\n",
        "![A processing pipeline](https://raw.githubusercontent.com/browndw/humanities_analytics/refs/heads/main/data/_images/pipeline.svg)\n",
        "\n",
        "To begin seeing what this looks like in practice, let's start with a toy example."
      ],
      "metadata": {
        "id": "FtIXBI66PM-j"
      }
    },
    {
      "cell_type": "markdown",
      "source": [
        "### A toy example\n",
        "\n",
        "Frist, we'll create an object consisting of a character string. In this case, the first sentence from *A Tale of Two Cities*:\n",
        "\n",
        "> It was the best of times, it was the worst of times, it was the age of wisdom, it was the age of foolishness, it was the epoch of belief, it was the epoch of incredulity, it was the season of Light, it was the season of Darkness, it was the spring of hope, it was the winter of despair."
      ],
      "metadata": {
        "id": "rmGTsTqkPTIP"
      }
    },
    {
      "cell_type": "code",
      "execution_count": 2,
      "metadata": {
        "id": "QodcGiYocYlO"
      },
      "outputs": [],
      "source": [
        "totc_txt = \"It was the best of times, it was the worst of times, it was the age of wisdom, it was the age of foolishness, it was the epoch of belief, it was the epoch of incredulity, it was the season of Light, it was the season of Darkness, it was the spring of hope, it was the winter of despair.\""
      ]
    },
    {
      "cell_type": "markdown",
      "source": [
        "### Tokenization\n",
        "\n",
        "🤔 How would you turn this text into something you can count? In other words, we need to convert text into numbers in order to carry out any kind of computational or statistical analysis. So how would you do that?\n",
        "\n",
        "One obvious way would be to simply split the text at spaces."
      ],
      "metadata": {
        "id": "cjXGzmFEdhW8"
      }
    },
    {
      "cell_type": "code",
      "source": [
        "split_totc = totc_txt.split(\" \")\n",
        "print(split_totc)"
      ],
      "metadata": {
        "colab": {
          "base_uri": "https://localhost:8080/"
        },
        "id": "-jk6zLeDeSEq",
        "outputId": "c2d4c122-65de-4a62-fabe-a345b794c0e8"
      },
      "execution_count": 3,
      "outputs": [
        {
          "output_type": "stream",
          "name": "stdout",
          "text": [
            "['It', 'was', 'the', 'best', 'of', 'times,', 'it', 'was', 'the', 'worst', 'of', 'times,', 'it', 'was', 'the', 'age', 'of', 'wisdom,', 'it', 'was', 'the', 'age', 'of', 'foolishness,', 'it', 'was', 'the', 'epoch', 'of', 'belief,', 'it', 'was', 'the', 'epoch', 'of', 'incredulity,', 'it', 'was', 'the', 'season', 'of', 'Light,', 'it', 'was', 'the', 'season', 'of', 'Darkness,', 'it', 'was', 'the', 'spring', 'of', 'hope,', 'it', 'was', 'the', 'winter', 'of', 'despair.']\n"
          ]
        }
      ]
    },
    {
      "cell_type": "markdown",
      "source": [
        "### Counting tokens\n",
        "\n",
        "To create a table of counts, we'll first install a library to help us create and manipulate tables (or data frames). For all of our labs, we'll use a Python library called [Polars](https://docs.pola.rs/). There's also a handy [introduction here](https://pbpython.com/polars-intro.html)."
      ],
      "metadata": {
        "id": "L5SQGE_-ekkK"
      }
    },
    {
      "cell_type": "code",
      "source": [
        "%%capture\n",
        "!pip install polars>=1.19"
      ],
      "metadata": {
        "id": "D8DvFT__feo_"
      },
      "execution_count": 4,
      "outputs": []
    },
    {
      "cell_type": "markdown",
      "source": [
        "\n",
        "Now we can [import](https://www.geeksforgeeks.org/import-module-python/) some useful things.\n",
        "\n"
      ],
      "metadata": {
        "id": "97_fMIr6ilbI"
      }
    },
    {
      "cell_type": "code",
      "source": [
        "import polars as pl\n",
        "from collections import Counter"
      ],
      "metadata": {
        "id": "qUmQWfHdfxyv"
      },
      "execution_count": 5,
      "outputs": []
    },
    {
      "cell_type": "markdown",
      "source": [
        "Then count our tokens and put them into a table."
      ],
      "metadata": {
        "id": "UPe67dbki3uF"
      }
    },
    {
      "cell_type": "code",
      "source": [
        "totc_counts = Counter(split_totc)\n",
        "counts_df = pl.DataFrame(totc_counts).transpose(include_header=True, header_name=\"token\").rename({\"column_0\": \"count\"})\n",
        "counts_df.head()"
      ],
      "metadata": {
        "colab": {
          "base_uri": "https://localhost:8080/",
          "height": 255
        },
        "id": "9n7UnAMhejtS",
        "outputId": "7ceddcfa-1e88-4395-d560-19b240943dea"
      },
      "execution_count": 6,
      "outputs": [
        {
          "output_type": "execute_result",
          "data": {
            "text/plain": [
              "shape: (5, 2)\n",
              "┌───────┬───────┐\n",
              "│ token ┆ count │\n",
              "│ ---   ┆ ---   │\n",
              "│ str   ┆ i64   │\n",
              "╞═══════╪═══════╡\n",
              "│ It    ┆ 1     │\n",
              "│ was   ┆ 10    │\n",
              "│ the   ┆ 10    │\n",
              "│ best  ┆ 1     │\n",
              "│ of    ┆ 10    │\n",
              "└───────┴───────┘"
            ],
            "text/html": [
              "<div><style>\n",
              ".dataframe > thead > tr,\n",
              ".dataframe > tbody > tr {\n",
              "  text-align: right;\n",
              "  white-space: pre-wrap;\n",
              "}\n",
              "</style>\n",
              "<small>shape: (5, 2)</small><table border=\"1\" class=\"dataframe\"><thead><tr><th>token</th><th>count</th></tr><tr><td>str</td><td>i64</td></tr></thead><tbody><tr><td>&quot;It&quot;</td><td>1</td></tr><tr><td>&quot;was&quot;</td><td>10</td></tr><tr><td>&quot;the&quot;</td><td>10</td></tr><tr><td>&quot;best&quot;</td><td>1</td></tr><tr><td>&quot;of&quot;</td><td>10</td></tr></tbody></table></div>"
            ]
          },
          "metadata": {},
          "execution_count": 6
        }
      ]
    },
    {
      "cell_type": "markdown",
      "source": [
        "\n",
        "---\n",
        "\n",
        "📝 Coding note: For these labs we'll largely be using a library called [polars](https://docs.pola.rs/api/python/stable/reference/index.html) to construct and manipulate data frames, which are just tabular data structures (i.e., they have rows and columns). The first part of the code (`pl.DataFrame(totc_counts)`) [creates the polars data frame](https://docs.pola.rs/api/python/stable/reference/dataframe/index.html). The second (`transpose(include_header=True, header_name=\"token\")`) [pivots the data frame](https://docs.pola.rs/api/python/stable/reference/dataframe/api/polars.DataFrame.transpose.html) so that the rows become the columns and the columns the rows. And the third (`rename({\"column_0\": \"count\"})`) assigns the name \"count\" to the column that has been automatically labeled \"column_0\" when we transposed the data frame.\n",
        "\n",
        "---\n",
        "\n"
      ],
      "metadata": {
        "id": "LHWjto3EsQcv"
      }
    },
    {
      "cell_type": "markdown",
      "source": [
        "The process of splitting the string vector into constituent parts is called **tokenization** or [**word segmentation**](https://en.wikipedia.org/wiki/Text_segmentation#Word_segmentation). Think of this as telling the computer how to define a word (or a \"token\", which is a more precise, technical term). In this case, we've done it in an extremely simple way--by defining a token as any string that is bounded by spaces. As a result, we have different tokens for the third-person pronoun *it*.\n",
        "\n"
      ],
      "metadata": {
        "id": "tWh25mhugms9"
      }
    },
    {
      "cell_type": "code",
      "source": [
        "counts_df.filter(pl.col(\"token\").str.contains(r\"(?i)^it$\"))"
      ],
      "metadata": {
        "colab": {
          "base_uri": "https://localhost:8080/",
          "height": 161
        },
        "id": "OCegH0bxrpIm",
        "outputId": "2ebd729a-7636-4a81-e938-51f1046b1d24"
      },
      "execution_count": 10,
      "outputs": [
        {
          "output_type": "execute_result",
          "data": {
            "text/plain": [
              "shape: (2, 2)\n",
              "┌───────┬───────┐\n",
              "│ token ┆ count │\n",
              "│ ---   ┆ ---   │\n",
              "│ str   ┆ i64   │\n",
              "╞═══════╪═══════╡\n",
              "│ It    ┆ 1     │\n",
              "│ it    ┆ 9     │\n",
              "└───────┴───────┘"
            ],
            "text/html": [
              "<div><style>\n",
              ".dataframe > thead > tr,\n",
              ".dataframe > tbody > tr {\n",
              "  text-align: right;\n",
              "  white-space: pre-wrap;\n",
              "}\n",
              "</style>\n",
              "<small>shape: (2, 2)</small><table border=\"1\" class=\"dataframe\"><thead><tr><th>token</th><th>count</th></tr><tr><td>str</td><td>i64</td></tr></thead><tbody><tr><td>&quot;It&quot;</td><td>1</td></tr><tr><td>&quot;it&quot;</td><td>9</td></tr></tbody></table></div>"
            ]
          },
          "metadata": {},
          "execution_count": 10
        }
      ]
    },
    {
      "cell_type": "markdown",
      "source": [
        "---\n",
        "\n",
        "📝 Coding note: The polars library has powerful tools for [filtering/selecting data](https://docs.pola.rs/api/python/stable/reference/dataframe/api/polars.DataFrame.filter.html). Here, we filter on the \"token\" column (`pl.col(\"token\")`) and we want a [string](https://docs.pola.rs/api/python/stable/reference/expressions/string.html) that contains \"it\". The \"(?i)\" signals that the search should be [case insensitive](https://stackoverflow.com/questions/75911005/case-insensitive-search-in-polars-python) (i.e., should include both upper and lower case) and the sybols \"^\" and \"$\" are [regular expression symbols](https://www.sitepoint.com/learn-regex/) indicating the beginning and end of a string respectively. There is [a regex tutorial here](https://regexlearn.com/learn).\n",
        "\n",
        "---"
      ],
      "metadata": {
        "id": "xEn8F1WYvg2V"
      }
    },
    {
      "cell_type": "markdown",
      "source": [
        "## Using models to tokenize at scale\n",
        "\n",
        "In order to execute this process at scale, we have a couple of options:\n",
        "\n",
        "\n",
        "1.   We could manipulate our text by, for example, coverting everything to lower case, deleting any character sequences that don't contain a letter, deleting symbols, and deleting punctuation. Then, we could simply simply split on spaces as we did in our simple experiment above. This is called [pre-processing or text cleaning](https://medium.com/@maleeshadesilva21/preprocessing-steps-for-natural-language-processing-nlp-a-beginners-guide-d6d9bf7689c9).\n",
        "2.   Alternatively, we could pass our data to an alogrithm or model with a complex set of rules or probabilities encoded into it.\n",
        "\n",
        "The second option tends to be more computationally intensive. However, model-based parsing allows us to extract additional information from texts. Depending on the model, we can retrieve part-of-speech tags, named entities, sentiment scores, or dependency (i.e., syntactic) relations.\n",
        "\n",
        "For most of these labs, we will be using [spaCy](https://spacy.io/) models to tokenize and parse our data. These models are relative efficient, well-documented, and widely used in industry."
      ],
      "metadata": {
        "id": "G8HN2C1-q34w"
      }
    },
    {
      "cell_type": "markdown",
      "source": [
        "### Install libraries\n",
        "\n",
        "We'll begin by installing [docuscospacy](https://docuscospacy.readthedocs.io/en/latest/index.html), which we'll use for tokenizing and tagging and great_tables, which (as the name suggests) is using for designing and writing tables."
      ],
      "metadata": {
        "id": "6WMlbDrX_MCy"
      }
    },
    {
      "cell_type": "code",
      "source": [
        "%%capture\n",
        "!pip install docuscospacy>=0.3"
      ],
      "metadata": {
        "id": "Iq6bsr--lkCG"
      },
      "execution_count": 11,
      "outputs": []
    },
    {
      "cell_type": "markdown",
      "source": [
        "### Install the spaCy model\n",
        "\n",
        "Next, we'll download the model ([en_docusco_spacy](https://huggingface.co/browndw/en_docusco_spacy)) that we'll be using."
      ],
      "metadata": {
        "id": "UQ3em65Y_9UA"
      }
    },
    {
      "cell_type": "code",
      "source": [
        "%%capture\n",
        "!pip install \"en_docusco_spacy @ https://huggingface.co/browndw/en_docusco_spacy/resolve/main/en_docusco_spacy-any-py3-none-any.whl\""
      ],
      "metadata": {
        "id": "Z8IVhyYIAHFg"
      },
      "execution_count": 12,
      "outputs": []
    },
    {
      "cell_type": "markdown",
      "source": [
        "### Load the libraries\n",
        "\n",
        "And finally load the libraries."
      ],
      "metadata": {
        "id": "in5mJg7ImlHu"
      }
    },
    {
      "cell_type": "code",
      "source": [
        "import docuscospacy as ds\n",
        "import spacy"
      ],
      "metadata": {
        "id": "icE1ZPU-AtlI"
      },
      "execution_count": 13,
      "outputs": []
    },
    {
      "cell_type": "markdown",
      "source": [
        "### Parsing text\n",
        "\n",
        "Parsing text with spaCy requires:\n",
        "\n",
        "\n",
        "1.   Initializing an \"instance\" of our model.\n",
        "2.   Loading some text.\n",
        "3.   Passing the text to the model.\n",
        "\n",
        "So let's do that with our *Tale of Two Cities* example:\n",
        "\n"
      ],
      "metadata": {
        "id": "30mZ_IM5BDHY"
      }
    },
    {
      "cell_type": "code",
      "source": [
        "nlp = spacy.load(\"en_docusco_spacy\")"
      ],
      "metadata": {
        "id": "wQicUvIIBAnK"
      },
      "execution_count": 14,
      "outputs": []
    },
    {
      "cell_type": "code",
      "source": [
        "totc_txt = \"It was the best of times, it was the worst of times, it was the age of wisdom, it was the age of foolishness, it was the epoch of belief, it was the epoch of incredulity, it was the season of Light, it was the season of Darkness, it was the spring of hope, it was the winter of despair.\""
      ],
      "metadata": {
        "id": "ysGnd3TrCKRk"
      },
      "execution_count": 21,
      "outputs": []
    },
    {
      "cell_type": "code",
      "source": [
        "doc = nlp(totc_txt)"
      ],
      "metadata": {
        "id": "mcQQo4AyDGpg"
      },
      "execution_count": 22,
      "outputs": []
    },
    {
      "cell_type": "markdown",
      "source": [
        "Now we can see some of what the model generates as outputs:"
      ],
      "metadata": {
        "id": "8YS4wsNhEeYd"
      }
    },
    {
      "cell_type": "code",
      "source": [
        "for token in doc:\n",
        "    print(token.text, token.pos_, token.tag_, token.ent_iob_, token.ent_type_)"
      ],
      "metadata": {
        "colab": {
          "base_uri": "https://localhost:8080/"
        },
        "id": "p7Su9Nx3CSax",
        "outputId": "5e1fcee9-666a-4f2c-9bd5-b1067980d103"
      },
      "execution_count": 25,
      "outputs": [
        {
          "output_type": "stream",
          "name": "stdout",
          "text": [
            "It  PPH1 B Narrative\n",
            "was  VBDZ I Narrative\n",
            "the  AT I Narrative\n",
            "best  JJT O \n",
            "of  IO B Narrative\n",
            "times  NNT2 I Narrative\n",
            ",  Y O \n",
            "it  PPH1 B Narrative\n",
            "was  VBDZ I Narrative\n",
            "the  AT I Narrative\n",
            "worst  JJT B Negative\n",
            "of  IO B Narrative\n",
            "times  NNT2 I Narrative\n",
            ",  Y O \n",
            "it  PPH1 B Narrative\n",
            "was  VBDZ I Narrative\n",
            "the  AT I Narrative\n",
            "age  NN1 B Narrative\n",
            "of  IO I Narrative\n",
            "wisdom  NN1 B Positive\n",
            ",  Y O \n",
            "it  PPH1 B Narrative\n",
            "was  VBDZ I Narrative\n",
            "the  AT I Narrative\n",
            "age  NN1 B Narrative\n",
            "of  IO I Narrative\n",
            "foolishness  NN1 B Negative\n",
            ",  Y O \n",
            "it  PPH1 B Narrative\n",
            "was  VBDZ I Narrative\n",
            "the  AT I Narrative\n",
            "epoch  NN1 B Narrative\n",
            "of  IO O \n",
            "belief  NN1 B Character\n",
            ",  Y O \n",
            "it  PPH1 B Narrative\n",
            "was  VBDZ I Narrative\n",
            "the  AT I Narrative\n",
            "epoch  NN1 B Narrative\n",
            "of  IO O \n",
            "incredulity  NN1 O \n",
            ",  Y O \n",
            "it  PPH1 B Narrative\n",
            "was  VBDZ I Narrative\n",
            "the  AT I Narrative\n",
            "season  NNT1 B Narrative\n",
            "of  IO O \n",
            "Light  NN1 O \n",
            ",  Y O \n",
            "it  PPH1 B Narrative\n",
            "was  VBDZ I Narrative\n",
            "the  AT I Narrative\n",
            "season  NNT1 B Narrative\n",
            "of  IO O \n",
            "Darkness  NN1 B Description\n",
            ",  Y O \n",
            "it  PPH1 B Narrative\n",
            "was  VBDZ I Narrative\n",
            "the  AT I Narrative\n",
            "spring  NN1 B Description\n",
            "of  IO I Description\n",
            "hope  NN1 B Future\n",
            ",  Y O \n",
            "it  PPH1 B Narrative\n",
            "was  VBDZ I Narrative\n",
            "the  AT I Narrative\n",
            "winter  NNT1 O \n",
            "of  IO O \n",
            "despair  NN1 B Negative\n",
            ".  Y O \n"
          ]
        }
      ]
    },
    {
      "cell_type": "markdown",
      "source": [
        "### Using docuscospacy to automate the process\n",
        "\n",
        "To use the docuscospacy library we first need a data frame with one column with document ids and another with text."
      ],
      "metadata": {
        "id": "F6WWfJONEMP0"
      }
    },
    {
      "cell_type": "code",
      "source": [
        "totc_corpus = pl.DataFrame({\"doc_id\": \"totc\", \"text\": [totc_txt]})"
      ],
      "metadata": {
        "id": "jK8yTaraDvP0"
      },
      "execution_count": 27,
      "outputs": []
    },
    {
      "cell_type": "markdown",
      "source": [
        "Now we can pass that corpus to our spaCy instance."
      ],
      "metadata": {
        "id": "EJbLVNUFF2-t"
      }
    },
    {
      "cell_type": "code",
      "source": [
        "totc_tokens = ds.docuscope_parse(totc_corpus, nlp_model=nlp, n_process=4)"
      ],
      "metadata": {
        "id": "3BrxKFZbDip_"
      },
      "execution_count": 28,
      "outputs": []
    },
    {
      "cell_type": "markdown",
      "source": [
        "After processing, we can create a number of useful stuctures, like a table of frquency counts."
      ],
      "metadata": {
        "id": "A7hzpSDCF9Dh"
      }
    },
    {
      "cell_type": "code",
      "source": [
        "ds.frequency_table(totc_tokens).head()"
      ],
      "metadata": {
        "colab": {
          "base_uri": "https://localhost:8080/",
          "height": 255
        },
        "id": "SpBm1uofEBNy",
        "outputId": "bcba1849-eda8-4a34-ab27-d020a5371aff"
      },
      "execution_count": 31,
      "outputs": [
        {
          "output_type": "execute_result",
          "data": {
            "text/plain": [
              "shape: (5, 5)\n",
              "┌───────┬──────┬─────┬───────────────┬───────┐\n",
              "│ Token ┆ Tag  ┆ AF  ┆ RF            ┆ Range │\n",
              "│ ---   ┆ ---  ┆ --- ┆ ---           ┆ ---   │\n",
              "│ str   ┆ str  ┆ u32 ┆ f64           ┆ f64   │\n",
              "╞═══════╪══════╪═════╪═══════════════╪═══════╡\n",
              "│ it    ┆ PPH1 ┆ 10  ┆ 166666.666667 ┆ 100.0 │\n",
              "│ of    ┆ IO   ┆ 10  ┆ 166666.666667 ┆ 100.0 │\n",
              "│ the   ┆ AT   ┆ 10  ┆ 166666.666667 ┆ 100.0 │\n",
              "│ was   ┆ VBDZ ┆ 10  ┆ 166666.666667 ┆ 100.0 │\n",
              "│ age   ┆ NN1  ┆ 2   ┆ 33333.333333  ┆ 100.0 │\n",
              "└───────┴──────┴─────┴───────────────┴───────┘"
            ],
            "text/html": [
              "<div><style>\n",
              ".dataframe > thead > tr,\n",
              ".dataframe > tbody > tr {\n",
              "  text-align: right;\n",
              "  white-space: pre-wrap;\n",
              "}\n",
              "</style>\n",
              "<small>shape: (5, 5)</small><table border=\"1\" class=\"dataframe\"><thead><tr><th>Token</th><th>Tag</th><th>AF</th><th>RF</th><th>Range</th></tr><tr><td>str</td><td>str</td><td>u32</td><td>f64</td><td>f64</td></tr></thead><tbody><tr><td>&quot;it&quot;</td><td>&quot;PPH1&quot;</td><td>10</td><td>166666.666667</td><td>100.0</td></tr><tr><td>&quot;of&quot;</td><td>&quot;IO&quot;</td><td>10</td><td>166666.666667</td><td>100.0</td></tr><tr><td>&quot;the&quot;</td><td>&quot;AT&quot;</td><td>10</td><td>166666.666667</td><td>100.0</td></tr><tr><td>&quot;was&quot;</td><td>&quot;VBDZ&quot;</td><td>10</td><td>166666.666667</td><td>100.0</td></tr><tr><td>&quot;age&quot;</td><td>&quot;NN1&quot;</td><td>2</td><td>33333.333333</td><td>100.0</td></tr></tbody></table></div>"
            ]
          },
          "metadata": {},
          "execution_count": 31
        }
      ]
    },
    {
      "cell_type": "markdown",
      "source": [
        "### Processing a larger data set\n",
        "\n",
        "To load in a larger data set, we can read in data that is either on you Google Drive or data that we can link to from the web.\n",
        "\n",
        "Here we will read in a corpus from our course GitHub repository."
      ],
      "metadata": {
        "id": "xrHi_-7CImIM"
      }
    },
    {
      "cell_type": "code",
      "source": [
        "df = pl.read_parquet(\"https://github.com/browndw/humanities_analytics/raw/refs/heads/main/data/data_tables/sample_corpus.parquet\")"
      ],
      "metadata": {
        "id": "3OL1xobXJDMq"
      },
      "execution_count": 32,
      "outputs": []
    },
    {
      "cell_type": "markdown",
      "source": [
        "---\n",
        "\n",
        "📝 Coding note: The polars library has a variety of functions for [reading in data](https://docs.pola.rs/api/python/stable/reference/io.html). Data can also be written into your Google Drive, which we will do in another lab.\n",
        "\n",
        "---"
      ],
      "metadata": {
        "id": "QhrrLCxUJLzr"
      }
    },
    {
      "cell_type": "markdown",
      "source": [
        "Now we can use the same `docuscope_parse` function to process the corpus. This will take about 2 minutes."
      ],
      "metadata": {
        "id": "ZNpmAEspJhjt"
      }
    },
    {
      "cell_type": "code",
      "source": [
        "ds_tokens = ds.docuscope_parse(df, nlp_model=nlp, n_process=4)"
      ],
      "metadata": {
        "id": "Zq_NCVKBJiGH"
      },
      "execution_count": 34,
      "outputs": []
    },
    {
      "cell_type": "markdown",
      "source": [
        "And create a frequency table."
      ],
      "metadata": {
        "id": "IXwucm_1Jz8I"
      }
    },
    {
      "cell_type": "code",
      "source": [
        "wc = ds.frequency_table(ds_tokens)"
      ],
      "metadata": {
        "id": "2vARBgQRJ0kY"
      },
      "execution_count": 35,
      "outputs": []
    },
    {
      "cell_type": "code",
      "source": [
        "wc.head()"
      ],
      "metadata": {
        "colab": {
          "base_uri": "https://localhost:8080/",
          "height": 255
        },
        "id": "oAkNeYMzKeFv",
        "outputId": "0d44dc05-e7c6-4835-f379-9228a82284e3"
      },
      "execution_count": 36,
      "outputs": [
        {
          "output_type": "execute_result",
          "data": {
            "text/plain": [
              "shape: (5, 5)\n",
              "┌───────┬─────┬───────┬──────────────┬───────┐\n",
              "│ Token ┆ Tag ┆ AF    ┆ RF           ┆ Range │\n",
              "│ ---   ┆ --- ┆ ---   ┆ ---          ┆ ---   │\n",
              "│ str   ┆ str ┆ u32   ┆ f64          ┆ f64   │\n",
              "╞═══════╪═════╪═══════╪══════════════╪═══════╡\n",
              "│ the   ┆ AT  ┆ 51030 ┆ 49907.38332  ┆ 99.75 │\n",
              "│ and   ┆ CC  ┆ 25288 ┆ 24731.685467 ┆ 99.5  │\n",
              "│ of    ┆ IO  ┆ 22492 ┆ 21997.195094 ┆ 99.75 │\n",
              "│ a     ┆ AT1 ┆ 22033 ┆ 21548.292704 ┆ 99.25 │\n",
              "│ to    ┆ TO  ┆ 16269 ┆ 15911.095811 ┆ 99.0  │\n",
              "└───────┴─────┴───────┴──────────────┴───────┘"
            ],
            "text/html": [
              "<div><style>\n",
              ".dataframe > thead > tr,\n",
              ".dataframe > tbody > tr {\n",
              "  text-align: right;\n",
              "  white-space: pre-wrap;\n",
              "}\n",
              "</style>\n",
              "<small>shape: (5, 5)</small><table border=\"1\" class=\"dataframe\"><thead><tr><th>Token</th><th>Tag</th><th>AF</th><th>RF</th><th>Range</th></tr><tr><td>str</td><td>str</td><td>u32</td><td>f64</td><td>f64</td></tr></thead><tbody><tr><td>&quot;the&quot;</td><td>&quot;AT&quot;</td><td>51030</td><td>49907.38332</td><td>99.75</td></tr><tr><td>&quot;and&quot;</td><td>&quot;CC&quot;</td><td>25288</td><td>24731.685467</td><td>99.5</td></tr><tr><td>&quot;of&quot;</td><td>&quot;IO&quot;</td><td>22492</td><td>21997.195094</td><td>99.75</td></tr><tr><td>&quot;a&quot;</td><td>&quot;AT1&quot;</td><td>22033</td><td>21548.292704</td><td>99.25</td></tr><tr><td>&quot;to&quot;</td><td>&quot;TO&quot;</td><td>16269</td><td>15911.095811</td><td>99.0</td></tr></tbody></table></div>"
            ]
          },
          "metadata": {},
          "execution_count": 36
        }
      ]
    },
    {
      "cell_type": "code",
      "source": [
        "wc.tail()"
      ],
      "metadata": {
        "colab": {
          "base_uri": "https://localhost:8080/",
          "height": 255
        },
        "id": "O0GN6GWkKinO",
        "outputId": "1a36f7e2-f2f1-4e10-c4a9-a0ae5dc86368"
      },
      "execution_count": 37,
      "outputs": [
        {
          "output_type": "execute_result",
          "data": {
            "text/plain": [
              "shape: (5, 5)\n",
              "┌────────┬─────┬─────┬──────────┬───────┐\n",
              "│ Token  ┆ Tag ┆ AF  ┆ RF       ┆ Range │\n",
              "│ ---    ┆ --- ┆ --- ┆ ---      ┆ ---   │\n",
              "│ str    ┆ str ┆ u32 ┆ f64      ┆ f64   │\n",
              "╞════════╪═════╪═════╪══════════╪═══════╡\n",
              "│ zuni   ┆ NP1 ┆ 1   ┆ 0.978001 ┆ 0.25  │\n",
              "│ zur    ┆ NN1 ┆ 1   ┆ 0.978001 ┆ 0.25  │\n",
              "│ zvezda ┆ NP1 ┆ 1   ┆ 0.978001 ┆ 0.25  │\n",
              "│ zwit   ┆ NP1 ┆ 1   ┆ 0.978001 ┆ 0.25  │\n",
              "│ zymo   ┆ NP1 ┆ 1   ┆ 0.978001 ┆ 0.25  │\n",
              "└────────┴─────┴─────┴──────────┴───────┘"
            ],
            "text/html": [
              "<div><style>\n",
              ".dataframe > thead > tr,\n",
              ".dataframe > tbody > tr {\n",
              "  text-align: right;\n",
              "  white-space: pre-wrap;\n",
              "}\n",
              "</style>\n",
              "<small>shape: (5, 5)</small><table border=\"1\" class=\"dataframe\"><thead><tr><th>Token</th><th>Tag</th><th>AF</th><th>RF</th><th>Range</th></tr><tr><td>str</td><td>str</td><td>u32</td><td>f64</td><td>f64</td></tr></thead><tbody><tr><td>&quot;zuni&quot;</td><td>&quot;NP1&quot;</td><td>1</td><td>0.978001</td><td>0.25</td></tr><tr><td>&quot;zur&quot;</td><td>&quot;NN1&quot;</td><td>1</td><td>0.978001</td><td>0.25</td></tr><tr><td>&quot;zvezda&quot;</td><td>&quot;NP1&quot;</td><td>1</td><td>0.978001</td><td>0.25</td></tr><tr><td>&quot;zwit&quot;</td><td>&quot;NP1&quot;</td><td>1</td><td>0.978001</td><td>0.25</td></tr><tr><td>&quot;zymo&quot;</td><td>&quot;NP1&quot;</td><td>1</td><td>0.978001</td><td>0.25</td></tr></tbody></table></div>"
            ]
          },
          "metadata": {},
          "execution_count": 37
        }
      ]
    },
    {
      "cell_type": "markdown",
      "source": [
        "From the table, it is relatively easy to extract important information like the total word count (or size) of a corpus. Here we simply [sum](https://docs.pola.rs/api/python/dev/reference/expressions/api/polars.sum.html) the \"AF\" (or absolute frequency) column."
      ],
      "metadata": {
        "id": "mhx44IZkLIWS"
      }
    },
    {
      "cell_type": "code",
      "source": [
        "wc.select(\"AF\").sum()"
      ],
      "metadata": {
        "colab": {
          "base_uri": "https://localhost:8080/",
          "height": 129
        },
        "id": "32DeiIfQKq_Z",
        "outputId": "3b81f885-cc97-4a3a-c4ce-352f4912b416"
      },
      "execution_count": 40,
      "outputs": [
        {
          "output_type": "execute_result",
          "data": {
            "text/plain": [
              "shape: (1, 1)\n",
              "┌─────────┐\n",
              "│ AF      │\n",
              "│ ---     │\n",
              "│ u32     │\n",
              "╞═════════╡\n",
              "│ 1022494 │\n",
              "└─────────┘"
            ],
            "text/html": [
              "<div><style>\n",
              ".dataframe > thead > tr,\n",
              ".dataframe > tbody > tr {\n",
              "  text-align: right;\n",
              "  white-space: pre-wrap;\n",
              "}\n",
              "</style>\n",
              "<small>shape: (1, 1)</small><table border=\"1\" class=\"dataframe\"><thead><tr><th>AF</th></tr><tr><td>u32</td></tr></thead><tbody><tr><td>1022494</td></tr></tbody></table></div>"
            ]
          },
          "metadata": {},
          "execution_count": 40
        }
      ]
    }
  ]
}